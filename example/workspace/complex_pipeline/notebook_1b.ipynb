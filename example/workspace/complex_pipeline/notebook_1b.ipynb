{
 "cells": [
  {
   "cell_type": "code",
   "execution_count": 2,
   "id": "desirable-coating",
   "metadata": {},
   "outputs": [
    {
     "name": "stderr",
     "output_type": "stream",
     "text": [
      "2023-03-20 19:08:02 +0000 - dagster - INFO - ephemeral_dagstermill_pipeline - 2a2e62b6-d557-4ec4-a37f-fd0b2e177621 - 1b\n"
     ]
    }
   ],
   "source": [
    "import dagstermill\n",
    "context = dagstermill.get_context().log.info('1b')"
   ]
  },
  {
   "cell_type": "code",
   "execution_count": null,
   "id": "99629bd9-a5f4-486c-a4af-3958e940560a",
   "metadata": {},
   "outputs": [],
   "source": []
  }
 ],
 "metadata": {
  "kernelspec": {
   "display_name": "Python 3 (ipykernel)",
   "language": "python",
   "name": "python3"
  },
  "language_info": {
   "codemirror_mode": {
    "name": "ipython",
    "version": 3
   },
   "file_extension": ".py",
   "mimetype": "text/x-python",
   "name": "python",
   "nbconvert_exporter": "python",
   "pygments_lexer": "ipython3",
   "version": "3.11.1"
  }
 },
 "nbformat": 4,
 "nbformat_minor": 5
}
