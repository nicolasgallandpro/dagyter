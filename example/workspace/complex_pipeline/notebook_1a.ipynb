{
 "cells": [
  {
   "cell_type": "code",
   "execution_count": 1,
   "id": "desirable-coating",
   "metadata": {},
   "outputs": [
    {
     "name": "stderr",
     "output_type": "stream",
     "text": [
      "2023-03-20 19:07:54 +0000 - dagster - INFO - ephemeral_dagstermill_pipeline - d282ed50-cfb4-4290-9eab-0ac1fccc5c29 - 1a\n"
     ]
    }
   ],
   "source": [
    "import dagstermill\n",
    "context = dagstermill.get_context().log.info('1a')\n"
   ]
  },
  {
   "cell_type": "code",
   "execution_count": null,
   "id": "d352e70f-5ddc-42c4-8d4f-b86212938dab",
   "metadata": {},
   "outputs": [],
   "source": []
  }
 ],
 "metadata": {
  "kernelspec": {
   "display_name": "Python 3 (ipykernel)",
   "language": "python",
   "name": "python3"
  },
  "language_info": {
   "codemirror_mode": {
    "name": "ipython",
    "version": 3
   },
   "file_extension": ".py",
   "mimetype": "text/x-python",
   "name": "python",
   "nbconvert_exporter": "python",
   "pygments_lexer": "ipython3",
   "version": "3.11.1"
  }
 },
 "nbformat": 4,
 "nbformat_minor": 5
}
