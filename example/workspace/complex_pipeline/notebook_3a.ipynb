{
 "cells": [
  {
   "cell_type": "code",
   "execution_count": 1,
   "id": "involved-american",
   "metadata": {},
   "outputs": [
    {
     "name": "stderr",
     "output_type": "stream",
     "text": [
      "2023-03-20 19:08:17 +0000 - dagster - INFO - ephemeral_dagstermill_pipeline - eac28c66-bdf1-48f3-a609-65dcec7f76ab - 3a\n"
     ]
    }
   ],
   "source": [
    "import dagstermill\n",
    "context = dagstermill.get_context().log.info('3a')\n"
   ]
  },
  {
   "cell_type": "code",
   "execution_count": null,
   "id": "6b327ca9-9a8f-4b23-b132-7a21d0057de7",
   "metadata": {},
   "outputs": [],
   "source": []
  }
 ],
 "metadata": {
  "kernelspec": {
   "display_name": "Python 3 (ipykernel)",
   "language": "python",
   "name": "python3"
  },
  "language_info": {
   "codemirror_mode": {
    "name": "ipython",
    "version": 3
   },
   "file_extension": ".py",
   "mimetype": "text/x-python",
   "name": "python",
   "nbconvert_exporter": "python",
   "pygments_lexer": "ipython3",
   "version": "3.11.1"
  }
 },
 "nbformat": 4,
 "nbformat_minor": 5
}
