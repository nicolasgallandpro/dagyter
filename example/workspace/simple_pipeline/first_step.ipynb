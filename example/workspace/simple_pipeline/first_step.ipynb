{
 "cells": [
  {
   "cell_type": "code",
   "execution_count": 1,
   "id": "formed-portfolio",
   "metadata": {},
   "outputs": [
    {
     "name": "stderr",
     "output_type": "stream",
     "text": [
      "2023-03-20 19:07:25 +0000 - dagster - INFO - ephemeral_dagstermill_pipeline - 87e3d064-ea8d-4fc9-a716-7ca138635101 - step1\n"
     ]
    }
   ],
   "source": [
    "import dagstermill\n",
    "context = dagstermill.get_context().log.info('step1')"
   ]
  },
  {
   "cell_type": "code",
   "execution_count": null,
   "id": "da234400-8021-4969-8c56-776276e22d86",
   "metadata": {},
   "outputs": [],
   "source": []
  }
 ],
 "metadata": {
  "kernelspec": {
   "display_name": "Python 3 (ipykernel)",
   "language": "python",
   "name": "python3"
  },
  "language_info": {
   "codemirror_mode": {
    "name": "ipython",
    "version": 3
   },
   "file_extension": ".py",
   "mimetype": "text/x-python",
   "name": "python",
   "nbconvert_exporter": "python",
   "pygments_lexer": "ipython3",
   "version": "3.11.1"
  }
 },
 "nbformat": 4,
 "nbformat_minor": 5
}
