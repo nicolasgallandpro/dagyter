{
 "cells": [
  {
   "cell_type": "code",
   "execution_count": null,
   "id": "involved-american",
   "metadata": {},
   "outputs": [],
   "source": [
    "import dagstermill, pandas as pd, numpy as np, os\n",
    "\n",
    "dagstermill.yield_result(\"step ok\")\n"
   ]
  },
  {
   "cell_type": "code",
   "execution_count": null,
   "id": "af1a9b8a-a815-4f4d-93d2-0bc6490dcbac",
   "metadata": {},
   "outputs": [],
   "source": []
  }
 ],
 "metadata": {
  "kernelspec": {
   "display_name": "Python 3",
   "language": "python",
   "name": "python3"
  },
  "language_info": {
   "codemirror_mode": {
    "name": "ipython",
    "version": 3
   },
   "file_extension": ".py",
   "mimetype": "text/x-python",
   "name": "python",
   "nbconvert_exporter": "python",
   "pygments_lexer": "ipython3",
   "version": "3.9.2"
  }
 },
 "nbformat": 4,
 "nbformat_minor": 5
}
