{
 "cells": [
  {
   "cell_type": "code",
   "execution_count": 1,
   "id": "selective-attempt",
   "metadata": {
    "papermill": {
     "duration": 0.582566,
     "end_time": "2021-04-26T01:33:30.268919",
     "exception": false,
     "start_time": "2021-04-26T01:33:29.686353",
     "status": "completed"
    },
    "tags": [
     "injected-parameters"
    ]
   },
   "outputs": [
    {
     "name": "stderr",
     "output_type": "stream",
     "text": [
      "2021-04-26 01:33:30 - dagster - DEBUG - complex - ce1385d7-a7dc-4b00-bb20-0dfebec9d690 - 73536 - ENGINE_EVENT - Starting initialization of resources [file_manager, io_manager].\n"
     ]
    },
    {
     "name": "stderr",
     "output_type": "stream",
     "text": [
      "2021-04-26 01:33:30 - dagster - DEBUG - complex - ce1385d7-a7dc-4b00-bb20-0dfebec9d690 - 73536 - ENGINE_EVENT - Finished initialization of resources [file_manager, io_manager].\n"
     ]
    }
   ],
   "source": [
    "\n",
    "# Injected parameters\n",
    "from dagster import seven as __dm_seven\n",
    "import dagstermill as __dm_dagstermill\n",
    "context = __dm_dagstermill._reconstitute_pipeline_context(\n",
    "    **{\n",
    "        key: __dm_seven.json.loads(value)\n",
    "        for key, value\n",
    "        in {'executable_dict': '{\"__class__\": \"ReconstructablePipeline\", \"pipeline_name\": \"complex\", \"repository\": {\"__class__\": \"ReconstructableRepository\", \"container_image\": null, \"pointer\": {\"__class__\": \"FileCodePointer\", \"fn_name\": \"notebooks_repository\", \"python_file\": \"/opt/dagster/conf/repos.py\", \"working_directory\": \"/workspace/\"}}, \"solid_selection_str\": null, \"solids_to_execute\": null}', 'pipeline_run_dict': '{\"__class__\": \"PipelineRun\", \"execution_plan_snapshot_id\": \"28f117dea05f5968ab93d35dce2c756ec63cbf67\", \"external_pipeline_origin\": {\"__class__\": \"ExternalPipelineOrigin\", \"external_repository_origin\": {\"__class__\": \"ExternalRepositoryOrigin\", \"repository_location_origin\": {\"__class__\": \"ManagedGrpcPythonEnvRepositoryLocationOrigin\", \"loadable_target_origin\": {\"__class__\": \"LoadableTargetOrigin\", \"attribute\": null, \"executable_path\": \"/usr/local/bin/python\", \"module_name\": null, \"package_name\": null, \"python_file\": \"/opt/dagster/conf/repos.py\", \"working_directory\": \"/workspace/\"}, \"location_name\": \"repos.py\"}, \"repository_name\": \"notebooks_repository\"}, \"pipeline_name\": \"complex\"}, \"mode\": \"default\", \"parent_run_id\": null, \"pipeline_name\": \"complex\", \"pipeline_snapshot_id\": \"a5e455abd83c7e9809e40ef3c60e7f13073bb14f\", \"root_run_id\": null, \"run_config\": {}, \"run_id\": \"ce1385d7-a7dc-4b00-bb20-0dfebec9d690\", \"solid_selection\": null, \"solids_to_execute\": null, \"status\": {\"__enum__\": \"PipelineRunStatus.STARTING\"}, \"step_keys_to_execute\": null, \"tags\": {\".dagster/grpc_info\": \"{\\\\\"host\\\\\": \\\\\"localhost\\\\\", \\\\\"socket\\\\\": \\\\\"/tmp/tmptgf0xtxc\\\\\"}\", \"dagster/solid_selection\": \"*\"}}', 'solid_handle_kwargs': '{\"name\": \"2ba\", \"parent\": null}', 'instance_ref_dict': '{\"__class__\": \"InstanceRef\", \"compute_logs_data\": {\"__class__\": \"ConfigurableClassData\", \"class_name\": \"LocalComputeLogManager\", \"config_yaml\": \"base_dir: /opt/dagster/dagster_home/storage\\\\n\", \"module_name\": \"dagster.core.storage.local_compute_log_manager\"}, \"custom_instance_class_data\": null, \"event_storage_data\": {\"__class__\": \"ConfigurableClassData\", \"class_name\": \"SqliteEventLogStorage\", \"config_yaml\": \"base_dir: /dagster_db\\\\n\", \"module_name\": \"dagster.core.storage.event_log\"}, \"local_artifact_storage_data\": {\"__class__\": \"ConfigurableClassData\", \"class_name\": \"LocalArtifactStorage\", \"config_yaml\": \"base_dir: /opt/dagster/dagster_home\\\\n\", \"module_name\": \"dagster.core.storage.root\"}, \"run_coordinator_data\": {\"__class__\": \"ConfigurableClassData\", \"class_name\": \"DefaultRunCoordinator\", \"config_yaml\": \"{}\\\\n\", \"module_name\": \"dagster.core.run_coordinator\"}, \"run_launcher_data\": {\"__class__\": \"ConfigurableClassData\", \"class_name\": \"DefaultRunLauncher\", \"config_yaml\": \"{}\\\\n\", \"module_name\": \"dagster\"}, \"run_storage_data\": {\"__class__\": \"ConfigurableClassData\", \"class_name\": \"SqliteRunStorage\", \"config_yaml\": \"base_dir: /dagster_db\\\\n\", \"module_name\": \"dagster.core.storage.runs\"}, \"schedule_storage_data\": {\"__class__\": \"ConfigurableClassData\", \"class_name\": \"SqliteScheduleStorage\", \"config_yaml\": \"base_dir: /dagster_db\\\\n\", \"module_name\": \"dagster.core.storage.schedules\"}, \"scheduler_data\": {\"__class__\": \"ConfigurableClassData\", \"class_name\": \"DagsterDaemonScheduler\", \"config_yaml\": \"{}\\\\n\", \"module_name\": \"dagster.core.scheduler\"}, \"settings\": {\"telemetry\": null}}', 'output_log_path': '\"/tmp/tmp57l51uvn\"', 'marshal_dir': '\"/tmp/dagstermill/ce1385d7-a7dc-4b00-bb20-0dfebec9d690/marshal\"', 'run_config': '{}'}.items()\n",
    "    }\n",
    ")\n",
    "i = __dm_dagstermill._load_parameter('i', '{\"value\": \"step ok\"}')\n"
   ]
  },
  {
   "cell_type": "code",
   "execution_count": 2,
   "id": "involved-american",
   "metadata": {
    "papermill": {
     "duration": 0.36215,
     "end_time": "2021-04-26T01:33:30.637598",
     "exception": false,
     "start_time": "2021-04-26T01:33:30.275448",
     "status": "completed"
    },
    "tags": []
   },
   "outputs": [
    {
     "data": {
      "application/scrapbook.scrap.json+json": {
       "data": {
        "value": "step ok"
       },
       "encoder": "json",
       "name": "result",
       "version": 1
      }
     },
     "metadata": {
      "scrapbook": {
       "data": true,
       "display": false,
       "name": "result"
      }
     },
     "output_type": "display_data"
    }
   ],
   "source": [
    "import dagstermill, pandas as pd, numpy as np, os\n",
    "\n",
    "dagstermill.yield_result(\"step ok\")\n"
   ]
  },
  {
   "cell_type": "code",
   "execution_count": null,
   "id": "af1a9b8a-a815-4f4d-93d2-0bc6490dcbac",
   "metadata": {
    "papermill": {
     "duration": 0.014498,
     "end_time": "2021-04-26T01:33:30.667520",
     "exception": false,
     "start_time": "2021-04-26T01:33:30.653022",
     "status": "completed"
    },
    "tags": []
   },
   "outputs": [],
   "source": []
  },
  {
   "cell_type": "code",
   "execution_count": 3,
   "id": "recorded-netherlands",
   "metadata": {
    "papermill": {
     "duration": 0.027974,
     "end_time": "2021-04-26T01:33:30.710633",
     "exception": false,
     "start_time": "2021-04-26T01:33:30.682659",
     "status": "completed"
    },
    "tags": [
     "injected-teardown"
    ]
   },
   "outputs": [],
   "source": [
    "import dagstermill as __dm_dagstermill\n",
    "__dm_dagstermill._teardown()\n"
   ]
  }
 ],
 "metadata": {
  "kernelspec": {
   "display_name": "Python 3",
   "language": "python",
   "name": "python3"
  },
  "language_info": {
   "codemirror_mode": {
    "name": "ipython",
    "version": 3
   },
   "file_extension": ".py",
   "mimetype": "text/x-python",
   "name": "python",
   "nbconvert_exporter": "python",
   "pygments_lexer": "ipython3",
   "version": "3.9.2"
  },
  "papermill": {
   "duration": 3.575887,
   "end_time": "2021-04-26T01:33:31.334901",
   "environment_variables": {},
   "exception": null,
   "input_path": "/tmp/tmpoonqzvem/d98b2cbf-df10-4c24-bd7f-ccfd26e02702-inter.ipynb",
   "output_path": "/tmp/tmpoonqzvem/cd81be7c-c8ff-4444-9d22-22f544a2aba8-out.ipynb",
   "parameters": "{\"__dm_context\": {\"marshal_dir\": \"/tmp/dagstermill/ce1385d7-a7dc-4b00-bb20-0dfebec9d690/marshal\", \"output_log_path\": \"/tmp/tmp57l51uvn\", \"run_config\": {}}, \"__dm_executable_dict\": {\"__class__\": \"ReconstructablePipeline\", \"pipeline_name\": \"complex\", \"repository\": {\"__class__\": \"ReconstructableRepository\", \"container_image\": null, \"pointer\": {\"__class__\": \"FileCodePointer\", \"fn_name\": \"notebooks_repository\", \"python_file\": \"/opt/dagster/conf/repos.py\", \"working_directory\": \"/workspace/\"}}, \"solid_selection_str\": null, \"solids_to_execute\": null}, \"__dm_instance_ref_dict\": {\"__class__\": \"InstanceRef\", \"compute_logs_data\": {\"__class__\": \"ConfigurableClassData\", \"class_name\": \"LocalComputeLogManager\", \"config_yaml\": \"base_dir: /opt/dagster/dagster_home/storage\\n\", \"module_name\": \"dagster.core.storage.local_compute_log_manager\"}, \"custom_instance_class_data\": null, \"event_storage_data\": {\"__class__\": \"ConfigurableClassData\", \"class_name\": \"SqliteEventLogStorage\", \"config_yaml\": \"base_dir: /dagster_db\\n\", \"module_name\": \"dagster.core.storage.event_log\"}, \"local_artifact_storage_data\": {\"__class__\": \"ConfigurableClassData\", \"class_name\": \"LocalArtifactStorage\", \"config_yaml\": \"base_dir: /opt/dagster/dagster_home\\n\", \"module_name\": \"dagster.core.storage.root\"}, \"run_coordinator_data\": {\"__class__\": \"ConfigurableClassData\", \"class_name\": \"DefaultRunCoordinator\", \"config_yaml\": \"{}\\n\", \"module_name\": \"dagster.core.run_coordinator\"}, \"run_launcher_data\": {\"__class__\": \"ConfigurableClassData\", \"class_name\": \"DefaultRunLauncher\", \"config_yaml\": \"{}\\n\", \"module_name\": \"dagster\"}, \"run_storage_data\": {\"__class__\": \"ConfigurableClassData\", \"class_name\": \"SqliteRunStorage\", \"config_yaml\": \"base_dir: /dagster_db\\n\", \"module_name\": \"dagster.core.storage.runs\"}, \"schedule_storage_data\": {\"__class__\": \"ConfigurableClassData\", \"class_name\": \"SqliteScheduleStorage\", \"config_yaml\": \"base_dir: /dagster_db\\n\", \"module_name\": \"dagster.core.storage.schedules\"}, \"scheduler_data\": {\"__class__\": \"ConfigurableClassData\", \"class_name\": \"DagsterDaemonScheduler\", \"config_yaml\": \"{}\\n\", \"module_name\": \"dagster.core.scheduler\"}, \"settings\": {\"telemetry\": null}}, \"__dm_pipeline_run_dict\": {\"__class__\": \"PipelineRun\", \"execution_plan_snapshot_id\": \"28f117dea05f5968ab93d35dce2c756ec63cbf67\", \"external_pipeline_origin\": {\"__class__\": \"ExternalPipelineOrigin\", \"external_repository_origin\": {\"__class__\": \"ExternalRepositoryOrigin\", \"repository_location_origin\": {\"__class__\": \"ManagedGrpcPythonEnvRepositoryLocationOrigin\", \"loadable_target_origin\": {\"__class__\": \"LoadableTargetOrigin\", \"attribute\": null, \"executable_path\": \"/usr/local/bin/python\", \"module_name\": null, \"package_name\": null, \"python_file\": \"/opt/dagster/conf/repos.py\", \"working_directory\": \"/workspace/\"}, \"location_name\": \"repos.py\"}, \"repository_name\": \"notebooks_repository\"}, \"pipeline_name\": \"complex\"}, \"mode\": \"default\", \"parent_run_id\": null, \"pipeline_name\": \"complex\", \"pipeline_snapshot_id\": \"a5e455abd83c7e9809e40ef3c60e7f13073bb14f\", \"root_run_id\": null, \"run_config\": {}, \"run_id\": \"ce1385d7-a7dc-4b00-bb20-0dfebec9d690\", \"solid_selection\": null, \"solids_to_execute\": null, \"status\": {\"__enum__\": \"PipelineRunStatus.STARTING\"}, \"step_keys_to_execute\": null, \"tags\": {\".dagster/grpc_info\": \"{\\\"host\\\": \\\"localhost\\\", \\\"socket\\\": \\\"/tmp/tmptgf0xtxc\\\"}\", \"dagster/solid_selection\": \"*\"}}, \"__dm_solid_handle_kwargs\": {\"name\": \"2ba\", \"parent\": null}, \"i\": {\"value\": \"step ok\"}}",
   "start_time": "2021-04-26T01:33:27.759014",
   "version": "1.2.1"
  }
 },
 "nbformat": 4,
 "nbformat_minor": 5
}