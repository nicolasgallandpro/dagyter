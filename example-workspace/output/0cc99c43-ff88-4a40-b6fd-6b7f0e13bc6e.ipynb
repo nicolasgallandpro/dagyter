{
 "cells": [
  {
   "cell_type": "code",
   "execution_count": 1,
   "id": "combined-grill",
   "metadata": {
    "papermill": {
     "duration": 0.578926,
     "end_time": "2021-04-26T01:33:48.633396",
     "exception": false,
     "start_time": "2021-04-26T01:33:48.054470",
     "status": "completed"
    },
    "tags": [
     "injected-parameters"
    ]
   },
   "outputs": [
    {
     "name": "stderr",
     "output_type": "stream",
     "text": [
      "2021-04-26 01:33:48 - dagster - DEBUG - simple - ab98f0ee-a318-4511-9dca-3f7d16bd62d5 - 74035 - ENGINE_EVENT - Starting initialization of resources [file_manager, io_manager].\n"
     ]
    },
    {
     "name": "stderr",
     "output_type": "stream",
     "text": [
      "2021-04-26 01:33:48 - dagster - DEBUG - simple - ab98f0ee-a318-4511-9dca-3f7d16bd62d5 - 74035 - ENGINE_EVENT - Finished initialization of resources [file_manager, io_manager].\n"
     ]
    }
   ],
   "source": [
    "\n",
    "# Injected parameters\n",
    "from dagster import seven as __dm_seven\n",
    "import dagstermill as __dm_dagstermill\n",
    "context = __dm_dagstermill._reconstitute_pipeline_context(\n",
    "    **{\n",
    "        key: __dm_seven.json.loads(value)\n",
    "        for key, value\n",
    "        in {'executable_dict': '{\"__class__\": \"ReconstructablePipeline\", \"pipeline_name\": \"simple\", \"repository\": {\"__class__\": \"ReconstructableRepository\", \"container_image\": null, \"pointer\": {\"__class__\": \"FileCodePointer\", \"fn_name\": \"notebooks_repository\", \"python_file\": \"/opt/dagster/conf/repos.py\", \"working_directory\": \"/workspace/\"}}, \"solid_selection_str\": null, \"solids_to_execute\": null}', 'pipeline_run_dict': '{\"__class__\": \"PipelineRun\", \"execution_plan_snapshot_id\": \"03eb312a9aae8228a2896083685a607bbd181443\", \"external_pipeline_origin\": {\"__class__\": \"ExternalPipelineOrigin\", \"external_repository_origin\": {\"__class__\": \"ExternalRepositoryOrigin\", \"repository_location_origin\": {\"__class__\": \"ManagedGrpcPythonEnvRepositoryLocationOrigin\", \"loadable_target_origin\": {\"__class__\": \"LoadableTargetOrigin\", \"attribute\": null, \"executable_path\": \"/usr/local/bin/python\", \"module_name\": null, \"package_name\": null, \"python_file\": \"/opt/dagster/conf/repos.py\", \"working_directory\": \"/workspace/\"}, \"location_name\": \"repos.py\"}, \"repository_name\": \"notebooks_repository\"}, \"pipeline_name\": \"simple\"}, \"mode\": \"default\", \"parent_run_id\": null, \"pipeline_name\": \"simple\", \"pipeline_snapshot_id\": \"c1938f7a964a4ccd8b016b761039fde833aeec0c\", \"root_run_id\": null, \"run_config\": {}, \"run_id\": \"ab98f0ee-a318-4511-9dca-3f7d16bd62d5\", \"solid_selection\": null, \"solids_to_execute\": null, \"status\": {\"__enum__\": \"PipelineRunStatus.STARTING\"}, \"step_keys_to_execute\": null, \"tags\": {\".dagster/grpc_info\": \"{\\\\\"host\\\\\": \\\\\"localhost\\\\\", \\\\\"socket\\\\\": \\\\\"/tmp/tmptgf0xtxc\\\\\"}\", \"dagster/solid_selection\": \"*\"}}', 'solid_handle_kwargs': '{\"name\": \"first_step\", \"parent\": null}', 'instance_ref_dict': '{\"__class__\": \"InstanceRef\", \"compute_logs_data\": {\"__class__\": \"ConfigurableClassData\", \"class_name\": \"LocalComputeLogManager\", \"config_yaml\": \"base_dir: /opt/dagster/dagster_home/storage\\\\n\", \"module_name\": \"dagster.core.storage.local_compute_log_manager\"}, \"custom_instance_class_data\": null, \"event_storage_data\": {\"__class__\": \"ConfigurableClassData\", \"class_name\": \"SqliteEventLogStorage\", \"config_yaml\": \"base_dir: /dagster_db\\\\n\", \"module_name\": \"dagster.core.storage.event_log\"}, \"local_artifact_storage_data\": {\"__class__\": \"ConfigurableClassData\", \"class_name\": \"LocalArtifactStorage\", \"config_yaml\": \"base_dir: /opt/dagster/dagster_home\\\\n\", \"module_name\": \"dagster.core.storage.root\"}, \"run_coordinator_data\": {\"__class__\": \"ConfigurableClassData\", \"class_name\": \"DefaultRunCoordinator\", \"config_yaml\": \"{}\\\\n\", \"module_name\": \"dagster.core.run_coordinator\"}, \"run_launcher_data\": {\"__class__\": \"ConfigurableClassData\", \"class_name\": \"DefaultRunLauncher\", \"config_yaml\": \"{}\\\\n\", \"module_name\": \"dagster\"}, \"run_storage_data\": {\"__class__\": \"ConfigurableClassData\", \"class_name\": \"SqliteRunStorage\", \"config_yaml\": \"base_dir: /dagster_db\\\\n\", \"module_name\": \"dagster.core.storage.runs\"}, \"schedule_storage_data\": {\"__class__\": \"ConfigurableClassData\", \"class_name\": \"SqliteScheduleStorage\", \"config_yaml\": \"base_dir: /dagster_db\\\\n\", \"module_name\": \"dagster.core.storage.schedules\"}, \"scheduler_data\": {\"__class__\": \"ConfigurableClassData\", \"class_name\": \"DagsterDaemonScheduler\", \"config_yaml\": \"{}\\\\n\", \"module_name\": \"dagster.core.scheduler\"}, \"settings\": {\"telemetry\": null}}', 'output_log_path': '\"/tmp/tmp2deng9te\"', 'marshal_dir': '\"/tmp/dagstermill/ab98f0ee-a318-4511-9dca-3f7d16bd62d5/marshal\"', 'run_config': '{}'}.items()\n",
    "    }\n",
    ")\n"
   ]
  },
  {
   "cell_type": "code",
   "execution_count": 2,
   "id": "formed-portfolio",
   "metadata": {
    "papermill": {
     "duration": 0.366916,
     "end_time": "2021-04-26T01:33:49.015669",
     "exception": false,
     "start_time": "2021-04-26T01:33:48.648753",
     "status": "completed"
    },
    "tags": []
   },
   "outputs": [
    {
     "name": "stderr",
     "output_type": "stream",
     "text": [
      "2021-04-26 01:33:48 - dagster - INFO - system - ab98f0ee-a318-4511-9dca-3f7d16bd62d5 - hello\n"
     ]
    }
   ],
   "source": [
    "import dagstermill, pandas as pd, numpy as np, os\n",
    "logger.info(\"hello\")"
   ]
  },
  {
   "cell_type": "code",
   "execution_count": 3,
   "id": "greatest-flavor",
   "metadata": {
    "papermill": {
     "duration": 0.046969,
     "end_time": "2021-04-26T01:33:49.078629",
     "exception": false,
     "start_time": "2021-04-26T01:33:49.031660",
     "status": "completed"
    },
    "tags": []
   },
   "outputs": [
    {
     "data": {
      "application/scrapbook.scrap.json+json": {
       "data": {
        "value": "step 1 ok"
       },
       "encoder": "json",
       "name": "result",
       "version": 1
      }
     },
     "metadata": {
      "scrapbook": {
       "data": true,
       "display": false,
       "name": "result"
      }
     },
     "output_type": "display_data"
    }
   ],
   "source": [
    "dagstermill.yield_result(\"step 1 ok\") #must be present "
   ]
  },
  {
   "cell_type": "code",
   "execution_count": null,
   "id": "animal-citizen",
   "metadata": {
    "papermill": {
     "duration": 0.015273,
     "end_time": "2021-04-26T01:33:49.111057",
     "exception": false,
     "start_time": "2021-04-26T01:33:49.095784",
     "status": "completed"
    },
    "tags": []
   },
   "outputs": [],
   "source": []
  },
  {
   "cell_type": "code",
   "execution_count": 4,
   "id": "hindu-bibliography",
   "metadata": {
    "papermill": {
     "duration": 0.028907,
     "end_time": "2021-04-26T01:33:49.154262",
     "exception": false,
     "start_time": "2021-04-26T01:33:49.125355",
     "status": "completed"
    },
    "tags": [
     "injected-teardown"
    ]
   },
   "outputs": [],
   "source": [
    "import dagstermill as __dm_dagstermill\n",
    "__dm_dagstermill._teardown()\n"
   ]
  }
 ],
 "metadata": {
  "kernelspec": {
   "display_name": "Python 3",
   "language": "python",
   "name": "python3"
  },
  "language_info": {
   "codemirror_mode": {
    "name": "ipython",
    "version": 3
   },
   "file_extension": ".py",
   "mimetype": "text/x-python",
   "name": "python",
   "nbconvert_exporter": "python",
   "pygments_lexer": "ipython3",
   "version": "3.9.2"
  },
  "papermill": {
   "duration": 3.960026,
   "end_time": "2021-04-26T01:33:49.779791",
   "environment_variables": {},
   "exception": null,
   "input_path": "/tmp/tmpk5c63t3n/2f0d56de-51d3-49ca-aa87-0df2d7d432bc-inter.ipynb",
   "output_path": "/tmp/tmpk5c63t3n/c2c89be0-29d9-443d-b0fc-35d0dd4898d6-out.ipynb",
   "parameters": "{\"__dm_context\": {\"marshal_dir\": \"/tmp/dagstermill/ab98f0ee-a318-4511-9dca-3f7d16bd62d5/marshal\", \"output_log_path\": \"/tmp/tmp2deng9te\", \"run_config\": {}}, \"__dm_executable_dict\": {\"__class__\": \"ReconstructablePipeline\", \"pipeline_name\": \"simple\", \"repository\": {\"__class__\": \"ReconstructableRepository\", \"container_image\": null, \"pointer\": {\"__class__\": \"FileCodePointer\", \"fn_name\": \"notebooks_repository\", \"python_file\": \"/opt/dagster/conf/repos.py\", \"working_directory\": \"/workspace/\"}}, \"solid_selection_str\": null, \"solids_to_execute\": null}, \"__dm_instance_ref_dict\": {\"__class__\": \"InstanceRef\", \"compute_logs_data\": {\"__class__\": \"ConfigurableClassData\", \"class_name\": \"LocalComputeLogManager\", \"config_yaml\": \"base_dir: /opt/dagster/dagster_home/storage\\n\", \"module_name\": \"dagster.core.storage.local_compute_log_manager\"}, \"custom_instance_class_data\": null, \"event_storage_data\": {\"__class__\": \"ConfigurableClassData\", \"class_name\": \"SqliteEventLogStorage\", \"config_yaml\": \"base_dir: /dagster_db\\n\", \"module_name\": \"dagster.core.storage.event_log\"}, \"local_artifact_storage_data\": {\"__class__\": \"ConfigurableClassData\", \"class_name\": \"LocalArtifactStorage\", \"config_yaml\": \"base_dir: /opt/dagster/dagster_home\\n\", \"module_name\": \"dagster.core.storage.root\"}, \"run_coordinator_data\": {\"__class__\": \"ConfigurableClassData\", \"class_name\": \"DefaultRunCoordinator\", \"config_yaml\": \"{}\\n\", \"module_name\": \"dagster.core.run_coordinator\"}, \"run_launcher_data\": {\"__class__\": \"ConfigurableClassData\", \"class_name\": \"DefaultRunLauncher\", \"config_yaml\": \"{}\\n\", \"module_name\": \"dagster\"}, \"run_storage_data\": {\"__class__\": \"ConfigurableClassData\", \"class_name\": \"SqliteRunStorage\", \"config_yaml\": \"base_dir: /dagster_db\\n\", \"module_name\": \"dagster.core.storage.runs\"}, \"schedule_storage_data\": {\"__class__\": \"ConfigurableClassData\", \"class_name\": \"SqliteScheduleStorage\", \"config_yaml\": \"base_dir: /dagster_db\\n\", \"module_name\": \"dagster.core.storage.schedules\"}, \"scheduler_data\": {\"__class__\": \"ConfigurableClassData\", \"class_name\": \"DagsterDaemonScheduler\", \"config_yaml\": \"{}\\n\", \"module_name\": \"dagster.core.scheduler\"}, \"settings\": {\"telemetry\": null}}, \"__dm_pipeline_run_dict\": {\"__class__\": \"PipelineRun\", \"execution_plan_snapshot_id\": \"03eb312a9aae8228a2896083685a607bbd181443\", \"external_pipeline_origin\": {\"__class__\": \"ExternalPipelineOrigin\", \"external_repository_origin\": {\"__class__\": \"ExternalRepositoryOrigin\", \"repository_location_origin\": {\"__class__\": \"ManagedGrpcPythonEnvRepositoryLocationOrigin\", \"loadable_target_origin\": {\"__class__\": \"LoadableTargetOrigin\", \"attribute\": null, \"executable_path\": \"/usr/local/bin/python\", \"module_name\": null, \"package_name\": null, \"python_file\": \"/opt/dagster/conf/repos.py\", \"working_directory\": \"/workspace/\"}, \"location_name\": \"repos.py\"}, \"repository_name\": \"notebooks_repository\"}, \"pipeline_name\": \"simple\"}, \"mode\": \"default\", \"parent_run_id\": null, \"pipeline_name\": \"simple\", \"pipeline_snapshot_id\": \"c1938f7a964a4ccd8b016b761039fde833aeec0c\", \"root_run_id\": null, \"run_config\": {}, \"run_id\": \"ab98f0ee-a318-4511-9dca-3f7d16bd62d5\", \"solid_selection\": null, \"solids_to_execute\": null, \"status\": {\"__enum__\": \"PipelineRunStatus.STARTING\"}, \"step_keys_to_execute\": null, \"tags\": {\".dagster/grpc_info\": \"{\\\"host\\\": \\\"localhost\\\", \\\"socket\\\": \\\"/tmp/tmptgf0xtxc\\\"}\", \"dagster/solid_selection\": \"*\"}}, \"__dm_solid_handle_kwargs\": {\"name\": \"first_step\", \"parent\": null}}",
   "start_time": "2021-04-26T01:33:45.819765",
   "version": "1.2.1"
  }
 },
 "nbformat": 4,
 "nbformat_minor": 5
}