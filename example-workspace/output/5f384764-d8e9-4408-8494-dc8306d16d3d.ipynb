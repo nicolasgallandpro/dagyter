{
 "cells": [
  {
   "cell_type": "code",
   "execution_count": 1,
   "id": "fresh-richmond",
   "metadata": {
    "papermill": {
     "duration": 0.563452,
     "end_time": "2021-04-26T01:33:18.548768",
     "exception": false,
     "start_time": "2021-04-26T01:33:17.985316",
     "status": "completed"
    },
    "tags": [
     "injected-parameters"
    ]
   },
   "outputs": [
    {
     "name": "stderr",
     "output_type": "stream",
     "text": [
      "2021-04-26 01:33:18 - dagster - DEBUG - complex - ce1385d7-a7dc-4b00-bb20-0dfebec9d690 - 73173 - ENGINE_EVENT - Starting initialization of resources [file_manager, io_manager].\n"
     ]
    },
    {
     "name": "stderr",
     "output_type": "stream",
     "text": [
      "2021-04-26 01:33:18 - dagster - DEBUG - complex - ce1385d7-a7dc-4b00-bb20-0dfebec9d690 - 73173 - ENGINE_EVENT - Finished initialization of resources [file_manager, io_manager].\n"
     ]
    }
   ],
   "source": [
    "\n",
    "# Injected parameters\n",
    "from dagster import seven as __dm_seven\n",
    "import dagstermill as __dm_dagstermill\n",
    "context = __dm_dagstermill._reconstitute_pipeline_context(\n",
    "    **{\n",
    "        key: __dm_seven.json.loads(value)\n",
    "        for key, value\n",
    "        in {'executable_dict': '{\"__class__\": \"ReconstructablePipeline\", \"pipeline_name\": \"complex\", \"repository\": {\"__class__\": \"ReconstructableRepository\", \"container_image\": null, \"pointer\": {\"__class__\": \"FileCodePointer\", \"fn_name\": \"notebooks_repository\", \"python_file\": \"/opt/dagster/conf/repos.py\", \"working_directory\": \"/workspace/\"}}, \"solid_selection_str\": null, \"solids_to_execute\": null}', 'pipeline_run_dict': '{\"__class__\": \"PipelineRun\", \"execution_plan_snapshot_id\": \"28f117dea05f5968ab93d35dce2c756ec63cbf67\", \"external_pipeline_origin\": {\"__class__\": \"ExternalPipelineOrigin\", \"external_repository_origin\": {\"__class__\": \"ExternalRepositoryOrigin\", \"repository_location_origin\": {\"__class__\": \"ManagedGrpcPythonEnvRepositoryLocationOrigin\", \"loadable_target_origin\": {\"__class__\": \"LoadableTargetOrigin\", \"attribute\": null, \"executable_path\": \"/usr/local/bin/python\", \"module_name\": null, \"package_name\": null, \"python_file\": \"/opt/dagster/conf/repos.py\", \"working_directory\": \"/workspace/\"}, \"location_name\": \"repos.py\"}, \"repository_name\": \"notebooks_repository\"}, \"pipeline_name\": \"complex\"}, \"mode\": \"default\", \"parent_run_id\": null, \"pipeline_name\": \"complex\", \"pipeline_snapshot_id\": \"a5e455abd83c7e9809e40ef3c60e7f13073bb14f\", \"root_run_id\": null, \"run_config\": {}, \"run_id\": \"ce1385d7-a7dc-4b00-bb20-0dfebec9d690\", \"solid_selection\": null, \"solids_to_execute\": null, \"status\": {\"__enum__\": \"PipelineRunStatus.STARTING\"}, \"step_keys_to_execute\": null, \"tags\": {\".dagster/grpc_info\": \"{\\\\\"host\\\\\": \\\\\"localhost\\\\\", \\\\\"socket\\\\\": \\\\\"/tmp/tmptgf0xtxc\\\\\"}\", \"dagster/solid_selection\": \"*\"}}', 'solid_handle_kwargs': '{\"name\": \"2\", \"parent\": null}', 'instance_ref_dict': '{\"__class__\": \"InstanceRef\", \"compute_logs_data\": {\"__class__\": \"ConfigurableClassData\", \"class_name\": \"LocalComputeLogManager\", \"config_yaml\": \"base_dir: /opt/dagster/dagster_home/storage\\\\n\", \"module_name\": \"dagster.core.storage.local_compute_log_manager\"}, \"custom_instance_class_data\": null, \"event_storage_data\": {\"__class__\": \"ConfigurableClassData\", \"class_name\": \"SqliteEventLogStorage\", \"config_yaml\": \"base_dir: /dagster_db\\\\n\", \"module_name\": \"dagster.core.storage.event_log\"}, \"local_artifact_storage_data\": {\"__class__\": \"ConfigurableClassData\", \"class_name\": \"LocalArtifactStorage\", \"config_yaml\": \"base_dir: /opt/dagster/dagster_home\\\\n\", \"module_name\": \"dagster.core.storage.root\"}, \"run_coordinator_data\": {\"__class__\": \"ConfigurableClassData\", \"class_name\": \"DefaultRunCoordinator\", \"config_yaml\": \"{}\\\\n\", \"module_name\": \"dagster.core.run_coordinator\"}, \"run_launcher_data\": {\"__class__\": \"ConfigurableClassData\", \"class_name\": \"DefaultRunLauncher\", \"config_yaml\": \"{}\\\\n\", \"module_name\": \"dagster\"}, \"run_storage_data\": {\"__class__\": \"ConfigurableClassData\", \"class_name\": \"SqliteRunStorage\", \"config_yaml\": \"base_dir: /dagster_db\\\\n\", \"module_name\": \"dagster.core.storage.runs\"}, \"schedule_storage_data\": {\"__class__\": \"ConfigurableClassData\", \"class_name\": \"SqliteScheduleStorage\", \"config_yaml\": \"base_dir: /dagster_db\\\\n\", \"module_name\": \"dagster.core.storage.schedules\"}, \"scheduler_data\": {\"__class__\": \"ConfigurableClassData\", \"class_name\": \"DagsterDaemonScheduler\", \"config_yaml\": \"{}\\\\n\", \"module_name\": \"dagster.core.scheduler\"}, \"settings\": {\"telemetry\": null}}', 'output_log_path': '\"/tmp/tmpm0ps_fuh\"', 'marshal_dir': '\"/tmp/dagstermill/ce1385d7-a7dc-4b00-bb20-0dfebec9d690/marshal\"', 'run_config': '{}'}.items()\n",
    "    }\n",
    ")\n",
    "i = __dm_dagstermill._load_parameter('i', '{\"value\": \"step 1 ok\"}')\n"
   ]
  },
  {
   "cell_type": "code",
   "execution_count": 2,
   "id": "collective-coordinator",
   "metadata": {
    "papermill": {
     "duration": 0.378122,
     "end_time": "2021-04-26T01:33:18.940189",
     "exception": false,
     "start_time": "2021-04-26T01:33:18.562067",
     "status": "completed"
    },
    "tags": []
   },
   "outputs": [
    {
     "name": "stderr",
     "output_type": "stream",
     "text": [
      "2021-04-26 01:33:18 - dagster - ERROR - system - ce1385d7-a7dc-4b00-bb20-0dfebec9d690 - hello error\n"
     ]
    },
    {
     "name": "stderr",
     "output_type": "stream",
     "text": [
      "2021-04-26 01:33:18 - dagster - INFO - system - ce1385d7-a7dc-4b00-bb20-0dfebec9d690 - hello info\n"
     ]
    }
   ],
   "source": [
    "import dagstermill, pandas as pd, numpy as np, os\n",
    "\n",
    "logger.error(\"hello error\")\n",
    "logger.info(\"hello info\")\n"
   ]
  },
  {
   "cell_type": "code",
   "execution_count": 3,
   "id": "vocal-salvation",
   "metadata": {
    "papermill": {
     "duration": 0.029812,
     "end_time": "2021-04-26T01:33:18.978867",
     "exception": false,
     "start_time": "2021-04-26T01:33:18.949055",
     "status": "completed"
    },
    "tags": []
   },
   "outputs": [
    {
     "name": "stdout",
     "output_type": "stream",
     "text": [
      "2\n"
     ]
    }
   ],
   "source": [
    "print(2)"
   ]
  },
  {
   "cell_type": "code",
   "execution_count": 4,
   "id": "enormous-paintball",
   "metadata": {
    "papermill": {
     "duration": 0.031944,
     "end_time": "2021-04-26T01:33:19.021470",
     "exception": false,
     "start_time": "2021-04-26T01:33:18.989526",
     "status": "completed"
    },
    "tags": []
   },
   "outputs": [
    {
     "data": {
      "application/scrapbook.scrap.json+json": {
       "data": {
        "value": "step 2 ok"
       },
       "encoder": "json",
       "name": "result",
       "version": 1
      }
     },
     "metadata": {
      "scrapbook": {
       "data": true,
       "display": false,
       "name": "result"
      }
     },
     "output_type": "display_data"
    }
   ],
   "source": [
    "dagstermill.yield_result(\"step 2 ok\")"
   ]
  },
  {
   "cell_type": "code",
   "execution_count": 5,
   "id": "induced-vulnerability",
   "metadata": {
    "papermill": {
     "duration": 0.023772,
     "end_time": "2021-04-26T01:33:19.055740",
     "exception": false,
     "start_time": "2021-04-26T01:33:19.031968",
     "status": "completed"
    },
    "tags": [
     "injected-teardown"
    ]
   },
   "outputs": [],
   "source": [
    "import dagstermill as __dm_dagstermill\n",
    "__dm_dagstermill._teardown()\n"
   ]
  }
 ],
 "metadata": {
  "kernelspec": {
   "display_name": "Python 3",
   "language": "python",
   "name": "python3"
  },
  "language_info": {
   "codemirror_mode": {
    "name": "ipython",
    "version": 3
   },
   "file_extension": ".py",
   "mimetype": "text/x-python",
   "name": "python",
   "nbconvert_exporter": "python",
   "pygments_lexer": "ipython3",
   "version": "3.9.2"
  },
  "papermill": {
   "duration": 3.541972,
   "end_time": "2021-04-26T01:33:19.580895",
   "environment_variables": {},
   "exception": null,
   "input_path": "/tmp/tmpgfswlyig/d2fb366e-fcf3-44fd-8d16-b89ea3a0951a-inter.ipynb",
   "output_path": "/tmp/tmpgfswlyig/fa547515-061e-4d3f-87fc-2ebe7d9f4e69-out.ipynb",
   "parameters": "{\"__dm_context\": {\"marshal_dir\": \"/tmp/dagstermill/ce1385d7-a7dc-4b00-bb20-0dfebec9d690/marshal\", \"output_log_path\": \"/tmp/tmpm0ps_fuh\", \"run_config\": {}}, \"__dm_executable_dict\": {\"__class__\": \"ReconstructablePipeline\", \"pipeline_name\": \"complex\", \"repository\": {\"__class__\": \"ReconstructableRepository\", \"container_image\": null, \"pointer\": {\"__class__\": \"FileCodePointer\", \"fn_name\": \"notebooks_repository\", \"python_file\": \"/opt/dagster/conf/repos.py\", \"working_directory\": \"/workspace/\"}}, \"solid_selection_str\": null, \"solids_to_execute\": null}, \"__dm_instance_ref_dict\": {\"__class__\": \"InstanceRef\", \"compute_logs_data\": {\"__class__\": \"ConfigurableClassData\", \"class_name\": \"LocalComputeLogManager\", \"config_yaml\": \"base_dir: /opt/dagster/dagster_home/storage\\n\", \"module_name\": \"dagster.core.storage.local_compute_log_manager\"}, \"custom_instance_class_data\": null, \"event_storage_data\": {\"__class__\": \"ConfigurableClassData\", \"class_name\": \"SqliteEventLogStorage\", \"config_yaml\": \"base_dir: /dagster_db\\n\", \"module_name\": \"dagster.core.storage.event_log\"}, \"local_artifact_storage_data\": {\"__class__\": \"ConfigurableClassData\", \"class_name\": \"LocalArtifactStorage\", \"config_yaml\": \"base_dir: /opt/dagster/dagster_home\\n\", \"module_name\": \"dagster.core.storage.root\"}, \"run_coordinator_data\": {\"__class__\": \"ConfigurableClassData\", \"class_name\": \"DefaultRunCoordinator\", \"config_yaml\": \"{}\\n\", \"module_name\": \"dagster.core.run_coordinator\"}, \"run_launcher_data\": {\"__class__\": \"ConfigurableClassData\", \"class_name\": \"DefaultRunLauncher\", \"config_yaml\": \"{}\\n\", \"module_name\": \"dagster\"}, \"run_storage_data\": {\"__class__\": \"ConfigurableClassData\", \"class_name\": \"SqliteRunStorage\", \"config_yaml\": \"base_dir: /dagster_db\\n\", \"module_name\": \"dagster.core.storage.runs\"}, \"schedule_storage_data\": {\"__class__\": \"ConfigurableClassData\", \"class_name\": \"SqliteScheduleStorage\", \"config_yaml\": \"base_dir: /dagster_db\\n\", \"module_name\": \"dagster.core.storage.schedules\"}, \"scheduler_data\": {\"__class__\": \"ConfigurableClassData\", \"class_name\": \"DagsterDaemonScheduler\", \"config_yaml\": \"{}\\n\", \"module_name\": \"dagster.core.scheduler\"}, \"settings\": {\"telemetry\": null}}, \"__dm_pipeline_run_dict\": {\"__class__\": \"PipelineRun\", \"execution_plan_snapshot_id\": \"28f117dea05f5968ab93d35dce2c756ec63cbf67\", \"external_pipeline_origin\": {\"__class__\": \"ExternalPipelineOrigin\", \"external_repository_origin\": {\"__class__\": \"ExternalRepositoryOrigin\", \"repository_location_origin\": {\"__class__\": \"ManagedGrpcPythonEnvRepositoryLocationOrigin\", \"loadable_target_origin\": {\"__class__\": \"LoadableTargetOrigin\", \"attribute\": null, \"executable_path\": \"/usr/local/bin/python\", \"module_name\": null, \"package_name\": null, \"python_file\": \"/opt/dagster/conf/repos.py\", \"working_directory\": \"/workspace/\"}, \"location_name\": \"repos.py\"}, \"repository_name\": \"notebooks_repository\"}, \"pipeline_name\": \"complex\"}, \"mode\": \"default\", \"parent_run_id\": null, \"pipeline_name\": \"complex\", \"pipeline_snapshot_id\": \"a5e455abd83c7e9809e40ef3c60e7f13073bb14f\", \"root_run_id\": null, \"run_config\": {}, \"run_id\": \"ce1385d7-a7dc-4b00-bb20-0dfebec9d690\", \"solid_selection\": null, \"solids_to_execute\": null, \"status\": {\"__enum__\": \"PipelineRunStatus.STARTING\"}, \"step_keys_to_execute\": null, \"tags\": {\".dagster/grpc_info\": \"{\\\"host\\\": \\\"localhost\\\", \\\"socket\\\": \\\"/tmp/tmptgf0xtxc\\\"}\", \"dagster/solid_selection\": \"*\"}}, \"__dm_solid_handle_kwargs\": {\"name\": \"2\", \"parent\": null}, \"i\": {\"value\": \"step 1 ok\"}}",
   "start_time": "2021-04-26T01:33:16.038923",
   "version": "1.2.1"
  }
 },
 "nbformat": 4,
 "nbformat_minor": 5
}