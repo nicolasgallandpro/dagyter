{
 "cells": [
  {
   "cell_type": "code",
   "execution_count": 1,
   "id": "attractive-insider",
   "metadata": {
    "papermill": {
     "duration": 7.552798,
     "end_time": "2021-04-06T19:59:55.771788",
     "exception": false,
     "start_time": "2021-04-06T19:59:48.218990",
     "status": "completed"
    },
    "tags": [
     "injected-parameters"
    ]
   },
   "outputs": [
    {
     "name": "stderr",
     "output_type": "stream",
     "text": [
      "2021-04-06 19:59:55 - dagster - DEBUG - pipeline2 - 00b48e7c-6217-452e-a6e7-5471ec7c5b9f - 34670 - ENGINE_EVENT - Starting initialization of resources [file_manager, io_manager].\n"
     ]
    },
    {
     "name": "stderr",
     "output_type": "stream",
     "text": [
      "2021-04-06 19:59:55 - dagster - DEBUG - pipeline2 - 00b48e7c-6217-452e-a6e7-5471ec7c5b9f - 34670 - ENGINE_EVENT - Finished initialization of resources [file_manager, io_manager].\n"
     ]
    }
   ],
   "source": [
    "\n",
    "# Injected parameters\n",
    "from dagster import seven as __dm_seven\n",
    "import dagstermill as __dm_dagstermill\n",
    "context = __dm_dagstermill._reconstitute_pipeline_context(\n",
    "    **{\n",
    "        key: __dm_seven.json.loads(value)\n",
    "        for key, value\n",
    "        in {'executable_dict': '{\"__class__\": \"ReconstructablePipeline\", \"pipeline_name\": \"pipeline2\", \"repository\": {\"__class__\": \"ReconstructableRepository\", \"container_image\": null, \"pointer\": {\"__class__\": \"FileCodePointer\", \"fn_name\": \"notebooks_repository\", \"python_file\": \"/opt/dagster/conf/repos.py\", \"working_directory\": \"/notebooks/\"}}, \"solid_selection_str\": null, \"solids_to_execute\": null}', 'pipeline_run_dict': '{\"__class__\": \"PipelineRun\", \"execution_plan_snapshot_id\": \"14a5c02a79b8ae78fda74f438b0e40f59007938e\", \"external_pipeline_origin\": {\"__class__\": \"ExternalPipelineOrigin\", \"external_repository_origin\": {\"__class__\": \"ExternalRepositoryOrigin\", \"repository_location_origin\": {\"__class__\": \"ManagedGrpcPythonEnvRepositoryLocationOrigin\", \"loadable_target_origin\": {\"__class__\": \"LoadableTargetOrigin\", \"attribute\": null, \"executable_path\": \"/usr/local/bin/python\", \"module_name\": null, \"package_name\": null, \"python_file\": \"/opt/dagster/conf/repos.py\", \"working_directory\": \"/notebooks/\"}, \"location_name\": \"repos.py\"}, \"repository_name\": \"notebooks_repository\"}, \"pipeline_name\": \"pipeline2\"}, \"mode\": \"default\", \"parent_run_id\": null, \"pipeline_name\": \"pipeline2\", \"pipeline_snapshot_id\": \"ab487bf8d84498166b14da1accf13a4c2c3738aa\", \"root_run_id\": null, \"run_config\": {}, \"run_id\": \"00b48e7c-6217-452e-a6e7-5471ec7c5b9f\", \"solid_selection\": null, \"solids_to_execute\": null, \"status\": {\"__enum__\": \"PipelineRunStatus.STARTING\"}, \"step_keys_to_execute\": null, \"tags\": {\".dagster/grpc_info\": \"{\\\\\"host\\\\\": \\\\\"localhost\\\\\", \\\\\"socket\\\\\": \\\\\"/tmp/tmpqcfuuz2w\\\\\"}\", \".dagster/scheduled_execution_time\": \"2021-04-06T19:59:00+00:00\", \"dagster/partition\": \"2021-04-05\", \"dagster/partition_set\": \"sched_pipeline2_partitions\", \"dagster/schedule_name\": \"sched_pipeline2\"}}', 'solid_handle_kwargs': '{\"name\": \"p2step1\", \"parent\": null}', 'instance_ref_dict': '{\"__class__\": \"InstanceRef\", \"compute_logs_data\": {\"__class__\": \"ConfigurableClassData\", \"class_name\": \"LocalComputeLogManager\", \"config_yaml\": \"base_dir: /opt/dagster/dagster_home/storage\\\\n\", \"module_name\": \"dagster.core.storage.local_compute_log_manager\"}, \"custom_instance_class_data\": null, \"event_storage_data\": {\"__class__\": \"ConfigurableClassData\", \"class_name\": \"PostgresEventLogStorage\", \"config_yaml\": \"postgres_db:\\\\n  db_name:\\\\n    env: DAGSTER_POSTGRES_DB\\\\n  hostname: dagyter_db\\\\n  password:\\\\n    env: DAGSTER_POSTGRES_PASSWORD\\\\n  port: 5432\\\\n  username:\\\\n    env: DAGSTER_POSTGRES_USER\\\\n\", \"module_name\": \"dagster_postgres.event_log\"}, \"local_artifact_storage_data\": {\"__class__\": \"ConfigurableClassData\", \"class_name\": \"LocalArtifactStorage\", \"config_yaml\": \"base_dir: /opt/dagster/dagster_home\\\\n\", \"module_name\": \"dagster.core.storage.root\"}, \"run_coordinator_data\": {\"__class__\": \"ConfigurableClassData\", \"class_name\": \"DefaultRunCoordinator\", \"config_yaml\": \"{}\\\\n\", \"module_name\": \"dagster.core.run_coordinator\"}, \"run_launcher_data\": {\"__class__\": \"ConfigurableClassData\", \"class_name\": \"DefaultRunLauncher\", \"config_yaml\": \"{}\\\\n\", \"module_name\": \"dagster\"}, \"run_storage_data\": {\"__class__\": \"ConfigurableClassData\", \"class_name\": \"PostgresRunStorage\", \"config_yaml\": \"postgres_db:\\\\n  db_name:\\\\n    env: DAGSTER_POSTGRES_DB\\\\n  hostname: dagyter_db\\\\n  password:\\\\n    env: DAGSTER_POSTGRES_PASSWORD\\\\n  port: 5432\\\\n  username:\\\\n    env: DAGSTER_POSTGRES_USER\\\\n\", \"module_name\": \"dagster_postgres.run_storage\"}, \"schedule_storage_data\": {\"__class__\": \"ConfigurableClassData\", \"class_name\": \"PostgresScheduleStorage\", \"config_yaml\": \"postgres_db:\\\\n  db_name:\\\\n    env: DAGSTER_POSTGRES_DB\\\\n  hostname: dagyter_db\\\\n  password:\\\\n    env: DAGSTER_POSTGRES_PASSWORD\\\\n  port: 5432\\\\n  username:\\\\n    env: DAGSTER_POSTGRES_USER\\\\n\", \"module_name\": \"dagster_postgres.schedule_storage\"}, \"scheduler_data\": {\"__class__\": \"ConfigurableClassData\", \"class_name\": \"DagsterDaemonScheduler\", \"config_yaml\": \"{}\\\\n\", \"module_name\": \"dagster.core.scheduler\"}, \"settings\": {\"telemetry\": null}}', 'output_log_path': '\"/tmp/tmpyoipsbrv\"', 'marshal_dir': '\"/tmp/dagstermill/00b48e7c-6217-452e-a6e7-5471ec7c5b9f/marshal\"', 'run_config': '{}'}.items()\n",
    "    }\n",
    ")\n"
   ]
  },
  {
   "cell_type": "code",
   "execution_count": 2,
   "id": "desirable-coating",
   "metadata": {
    "papermill": {
     "duration": 1.467479,
     "end_time": "2021-04-06T19:59:57.270064",
     "exception": false,
     "start_time": "2021-04-06T19:59:55.802585",
     "status": "completed"
    },
    "tags": []
   },
   "outputs": [],
   "source": [
    "import dagstermill, pandas as pd, numpy as np, os\n"
   ]
  },
  {
   "cell_type": "code",
   "execution_count": 3,
   "id": "permanent-galaxy",
   "metadata": {
    "papermill": {
     "duration": 0.112026,
     "end_time": "2021-04-06T19:59:57.411135",
     "exception": false,
     "start_time": "2021-04-06T19:59:57.299109",
     "status": "completed"
    },
    "tags": []
   },
   "outputs": [
    {
     "name": "stderr",
     "output_type": "stream",
     "text": [
      "/usr/local/lib/python3.9/site-packages/scrapbook/__init__.py:8: FutureWarning: 'nteract-scrapbook' package has been renamed to `scrapbook`. No new releases are going out for this old package name.\n",
      "  warnings.warn(\"'nteract-scrapbook' package has been renamed to `scrapbook`. No new releases are going out for this old package name.\", FutureWarning)\n"
     ]
    },
    {
     "data": {
      "application/scrapbook.scrap.json+json": {
       "data": {
        "value": "step 1 ok"
       },
       "encoder": "json",
       "name": "result",
       "version": 1
      }
     },
     "metadata": {
      "scrapbook": {
       "data": true,
       "display": false,
       "name": "result"
      }
     },
     "output_type": "display_data"
    }
   ],
   "source": [
    "dagstermill.yield_result(\"step 1 ok\") #must be present "
   ]
  },
  {
   "cell_type": "code",
   "execution_count": 4,
   "id": "incorporate-albert",
   "metadata": {
    "papermill": {
     "duration": 0.071239,
     "end_time": "2021-04-06T19:59:57.521672",
     "exception": false,
     "start_time": "2021-04-06T19:59:57.450433",
     "status": "completed"
    },
    "tags": [
     "injected-teardown"
    ]
   },
   "outputs": [],
   "source": [
    "import dagstermill as __dm_dagstermill\n",
    "__dm_dagstermill._teardown()\n"
   ]
  }
 ],
 "metadata": {
  "kernelspec": {
   "display_name": "Python 3",
   "language": "python",
   "name": "python3"
  },
  "language_info": {
   "codemirror_mode": {
    "name": "ipython",
    "version": 3
   },
   "file_extension": ".py",
   "mimetype": "text/x-python",
   "name": "python",
   "nbconvert_exporter": "python",
   "pygments_lexer": "ipython3",
   "version": "3.9.2"
  },
  "papermill": {
   "duration": 14.794515,
   "end_time": "2021-04-06T19:59:58.685741",
   "environment_variables": {},
   "exception": null,
   "input_path": "/tmp/tmpo8h33fhe/5d709017-c14d-456b-b462-30638201a105-inter.ipynb",
   "output_path": "/tmp/tmpo8h33fhe/4bc3b6e2-7c50-4fae-af13-b6a6caaf0e3c-out.ipynb",
   "parameters": "{\"__dm_context\": {\"marshal_dir\": \"/tmp/dagstermill/00b48e7c-6217-452e-a6e7-5471ec7c5b9f/marshal\", \"output_log_path\": \"/tmp/tmpyoipsbrv\", \"run_config\": {}}, \"__dm_executable_dict\": {\"__class__\": \"ReconstructablePipeline\", \"pipeline_name\": \"pipeline2\", \"repository\": {\"__class__\": \"ReconstructableRepository\", \"container_image\": null, \"pointer\": {\"__class__\": \"FileCodePointer\", \"fn_name\": \"notebooks_repository\", \"python_file\": \"/opt/dagster/conf/repos.py\", \"working_directory\": \"/notebooks/\"}}, \"solid_selection_str\": null, \"solids_to_execute\": null}, \"__dm_instance_ref_dict\": {\"__class__\": \"InstanceRef\", \"compute_logs_data\": {\"__class__\": \"ConfigurableClassData\", \"class_name\": \"LocalComputeLogManager\", \"config_yaml\": \"base_dir: /opt/dagster/dagster_home/storage\\n\", \"module_name\": \"dagster.core.storage.local_compute_log_manager\"}, \"custom_instance_class_data\": null, \"event_storage_data\": {\"__class__\": \"ConfigurableClassData\", \"class_name\": \"PostgresEventLogStorage\", \"config_yaml\": \"postgres_db:\\n  db_name:\\n    env: DAGSTER_POSTGRES_DB\\n  hostname: dagyter_db\\n  password:\\n    env: DAGSTER_POSTGRES_PASSWORD\\n  port: 5432\\n  username:\\n    env: DAGSTER_POSTGRES_USER\\n\", \"module_name\": \"dagster_postgres.event_log\"}, \"local_artifact_storage_data\": {\"__class__\": \"ConfigurableClassData\", \"class_name\": \"LocalArtifactStorage\", \"config_yaml\": \"base_dir: /opt/dagster/dagster_home\\n\", \"module_name\": \"dagster.core.storage.root\"}, \"run_coordinator_data\": {\"__class__\": \"ConfigurableClassData\", \"class_name\": \"DefaultRunCoordinator\", \"config_yaml\": \"{}\\n\", \"module_name\": \"dagster.core.run_coordinator\"}, \"run_launcher_data\": {\"__class__\": \"ConfigurableClassData\", \"class_name\": \"DefaultRunLauncher\", \"config_yaml\": \"{}\\n\", \"module_name\": \"dagster\"}, \"run_storage_data\": {\"__class__\": \"ConfigurableClassData\", \"class_name\": \"PostgresRunStorage\", \"config_yaml\": \"postgres_db:\\n  db_name:\\n    env: DAGSTER_POSTGRES_DB\\n  hostname: dagyter_db\\n  password:\\n    env: DAGSTER_POSTGRES_PASSWORD\\n  port: 5432\\n  username:\\n    env: DAGSTER_POSTGRES_USER\\n\", \"module_name\": \"dagster_postgres.run_storage\"}, \"schedule_storage_data\": {\"__class__\": \"ConfigurableClassData\", \"class_name\": \"PostgresScheduleStorage\", \"config_yaml\": \"postgres_db:\\n  db_name:\\n    env: DAGSTER_POSTGRES_DB\\n  hostname: dagyter_db\\n  password:\\n    env: DAGSTER_POSTGRES_PASSWORD\\n  port: 5432\\n  username:\\n    env: DAGSTER_POSTGRES_USER\\n\", \"module_name\": \"dagster_postgres.schedule_storage\"}, \"scheduler_data\": {\"__class__\": \"ConfigurableClassData\", \"class_name\": \"DagsterDaemonScheduler\", \"config_yaml\": \"{}\\n\", \"module_name\": \"dagster.core.scheduler\"}, \"settings\": {\"telemetry\": null}}, \"__dm_pipeline_run_dict\": {\"__class__\": \"PipelineRun\", \"execution_plan_snapshot_id\": \"14a5c02a79b8ae78fda74f438b0e40f59007938e\", \"external_pipeline_origin\": {\"__class__\": \"ExternalPipelineOrigin\", \"external_repository_origin\": {\"__class__\": \"ExternalRepositoryOrigin\", \"repository_location_origin\": {\"__class__\": \"ManagedGrpcPythonEnvRepositoryLocationOrigin\", \"loadable_target_origin\": {\"__class__\": \"LoadableTargetOrigin\", \"attribute\": null, \"executable_path\": \"/usr/local/bin/python\", \"module_name\": null, \"package_name\": null, \"python_file\": \"/opt/dagster/conf/repos.py\", \"working_directory\": \"/notebooks/\"}, \"location_name\": \"repos.py\"}, \"repository_name\": \"notebooks_repository\"}, \"pipeline_name\": \"pipeline2\"}, \"mode\": \"default\", \"parent_run_id\": null, \"pipeline_name\": \"pipeline2\", \"pipeline_snapshot_id\": \"ab487bf8d84498166b14da1accf13a4c2c3738aa\", \"root_run_id\": null, \"run_config\": {}, \"run_id\": \"00b48e7c-6217-452e-a6e7-5471ec7c5b9f\", \"solid_selection\": null, \"solids_to_execute\": null, \"status\": {\"__enum__\": \"PipelineRunStatus.STARTING\"}, \"step_keys_to_execute\": null, \"tags\": {\".dagster/grpc_info\": \"{\\\"host\\\": \\\"localhost\\\", \\\"socket\\\": \\\"/tmp/tmpqcfuuz2w\\\"}\", \".dagster/scheduled_execution_time\": \"2021-04-06T19:59:00+00:00\", \"dagster/partition\": \"2021-04-05\", \"dagster/partition_set\": \"sched_pipeline2_partitions\", \"dagster/schedule_name\": \"sched_pipeline2\"}}, \"__dm_solid_handle_kwargs\": {\"name\": \"p2step1\", \"parent\": null}}",
   "start_time": "2021-04-06T19:59:43.891226",
   "version": "1.2.1"
  }
 },
 "nbformat": 4,
 "nbformat_minor": 5
}