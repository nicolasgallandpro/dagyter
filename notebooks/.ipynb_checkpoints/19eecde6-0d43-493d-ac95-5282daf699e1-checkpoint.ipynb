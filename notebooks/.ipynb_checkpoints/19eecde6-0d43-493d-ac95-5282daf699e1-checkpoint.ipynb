{
 "cells": [
  {
   "cell_type": "code",
   "execution_count": 1,
   "id": "fallen-advance",
   "metadata": {
    "papermill": {
     "duration": 7.210395,
     "end_time": "2021-04-06T14:50:38.430194",
     "exception": false,
     "start_time": "2021-04-06T14:50:31.219799",
     "status": "completed"
    },
    "tags": [
     "injected-parameters"
    ]
   },
   "outputs": [
    {
     "name": "stderr",
     "output_type": "stream",
     "text": [
      "2021-04-06 14:50:38 - dagster - DEBUG - pipeline1 - 819c8485-2bd4-4d07-bcab-3dfb78cfbd98 - 127321 - ENGINE_EVENT - Starting initialization of resources [file_manager, io_manager].\n"
     ]
    },
    {
     "name": "stderr",
     "output_type": "stream",
     "text": [
      "2021-04-06 14:50:38 - dagster - DEBUG - pipeline1 - 819c8485-2bd4-4d07-bcab-3dfb78cfbd98 - 127321 - ENGINE_EVENT - Finished initialization of resources [file_manager, io_manager].\n"
     ]
    }
   ],
   "source": [
    "\n",
    "# Injected parameters\n",
    "from dagster import seven as __dm_seven\n",
    "import dagstermill as __dm_dagstermill\n",
    "context = __dm_dagstermill._reconstitute_pipeline_context(\n",
    "    **{\n",
    "        key: __dm_seven.json.loads(value)\n",
    "        for key, value\n",
    "        in {'executable_dict': '{\"__class__\": \"ReconstructablePipeline\", \"pipeline_name\": \"pipeline1\", \"repository\": {\"__class__\": \"ReconstructableRepository\", \"container_image\": null, \"pointer\": {\"__class__\": \"FileCodePointer\", \"fn_name\": \"notebooks_repository\", \"python_file\": \"/opt/dagster/conf/repos.py\", \"working_directory\": \"/notebooks\"}}, \"solid_selection_str\": null, \"solids_to_execute\": null}', 'pipeline_run_dict': '{\"__class__\": \"PipelineRun\", \"execution_plan_snapshot_id\": \"9aa9832183c4cb2e9637fe7726a7bc93e94daab7\", \"external_pipeline_origin\": {\"__class__\": \"ExternalPipelineOrigin\", \"external_repository_origin\": {\"__class__\": \"ExternalRepositoryOrigin\", \"repository_location_origin\": {\"__class__\": \"ManagedGrpcPythonEnvRepositoryLocationOrigin\", \"loadable_target_origin\": {\"__class__\": \"LoadableTargetOrigin\", \"attribute\": null, \"executable_path\": \"/usr/local/bin/python\", \"module_name\": null, \"package_name\": null, \"python_file\": \"/opt/dagster/conf/repos.py\", \"working_directory\": \"/notebooks\"}, \"location_name\": \"repos.py\"}, \"repository_name\": \"notebooks_repository\"}, \"pipeline_name\": \"pipeline1\"}, \"mode\": \"default\", \"parent_run_id\": \"9c453aa3-a468-4465-b20d-b1121342fef7\", \"pipeline_name\": \"pipeline1\", \"pipeline_snapshot_id\": \"209de4531cbe3f1900c49c319b8cb69cff058c84\", \"root_run_id\": \"9c453aa3-a468-4465-b20d-b1121342fef7\", \"run_config\": {}, \"run_id\": \"819c8485-2bd4-4d07-bcab-3dfb78cfbd98\", \"solid_selection\": null, \"solids_to_execute\": null, \"status\": {\"__enum__\": \"PipelineRunStatus.STARTING\"}, \"step_keys_to_execute\": null, \"tags\": {\".dagster/grpc_info\": \"{\\\\\"host\\\\\": \\\\\"localhost\\\\\", \\\\\"socket\\\\\": \\\\\"/tmp/tmph8cd64ae\\\\\"}\", \"dagster/parent_run_id\": \"9c453aa3-a468-4465-b20d-b1121342fef7\", \"dagster/root_run_id\": \"9c453aa3-a468-4465-b20d-b1121342fef7\", \"dagster/solid_selection\": \"*\"}}', 'solid_handle_kwargs': '{\"name\": \"step2\", \"parent\": null}', 'instance_ref_dict': '{\"__class__\": \"InstanceRef\", \"compute_logs_data\": {\"__class__\": \"ConfigurableClassData\", \"class_name\": \"LocalComputeLogManager\", \"config_yaml\": \"base_dir: /opt/dagster/dagster_home/storage\\\\n\", \"module_name\": \"dagster.core.storage.local_compute_log_manager\"}, \"custom_instance_class_data\": null, \"event_storage_data\": {\"__class__\": \"ConfigurableClassData\", \"class_name\": \"PostgresEventLogStorage\", \"config_yaml\": \"postgres_db:\\\\n  db_name:\\\\n    env: DAGSTER_POSTGRES_DB\\\\n  hostname: dagyter_db\\\\n  password:\\\\n    env: DAGSTER_POSTGRES_PASSWORD\\\\n  port: 5432\\\\n  username:\\\\n    env: DAGSTER_POSTGRES_USER\\\\n\", \"module_name\": \"dagster_postgres.event_log\"}, \"local_artifact_storage_data\": {\"__class__\": \"ConfigurableClassData\", \"class_name\": \"LocalArtifactStorage\", \"config_yaml\": \"base_dir: /opt/dagster/dagster_home\\\\n\", \"module_name\": \"dagster.core.storage.root\"}, \"run_coordinator_data\": {\"__class__\": \"ConfigurableClassData\", \"class_name\": \"DefaultRunCoordinator\", \"config_yaml\": \"{}\\\\n\", \"module_name\": \"dagster.core.run_coordinator\"}, \"run_launcher_data\": {\"__class__\": \"ConfigurableClassData\", \"class_name\": \"DefaultRunLauncher\", \"config_yaml\": \"{}\\\\n\", \"module_name\": \"dagster\"}, \"run_storage_data\": {\"__class__\": \"ConfigurableClassData\", \"class_name\": \"PostgresRunStorage\", \"config_yaml\": \"postgres_db:\\\\n  db_name:\\\\n    env: DAGSTER_POSTGRES_DB\\\\n  hostname: dagyter_db\\\\n  password:\\\\n    env: DAGSTER_POSTGRES_PASSWORD\\\\n  port: 5432\\\\n  username:\\\\n    env: DAGSTER_POSTGRES_USER\\\\n\", \"module_name\": \"dagster_postgres.run_storage\"}, \"schedule_storage_data\": {\"__class__\": \"ConfigurableClassData\", \"class_name\": \"PostgresScheduleStorage\", \"config_yaml\": \"postgres_db:\\\\n  db_name:\\\\n    env: DAGSTER_POSTGRES_DB\\\\n  hostname: dagyter_db\\\\n  password:\\\\n    env: DAGSTER_POSTGRES_PASSWORD\\\\n  port: 5432\\\\n  username:\\\\n    env: DAGSTER_POSTGRES_USER\\\\n\", \"module_name\": \"dagster_postgres.schedule_storage\"}, \"scheduler_data\": {\"__class__\": \"ConfigurableClassData\", \"class_name\": \"DagsterDaemonScheduler\", \"config_yaml\": \"{}\\\\n\", \"module_name\": \"dagster.core.scheduler\"}, \"settings\": {\"telemetry\": null}}', 'output_log_path': '\"/tmp/tmphd_ig090\"', 'marshal_dir': '\"/tmp/dagstermill/819c8485-2bd4-4d07-bcab-3dfb78cfbd98/marshal\"', 'run_config': '{}'}.items()\n",
    "    }\n",
    ")\n",
    "i = __dm_dagstermill._load_parameter('i', '{\"value\": \"step 1 ok\"}')\n"
   ]
  },
  {
   "cell_type": "code",
   "execution_count": 2,
   "id": "planned-fusion",
   "metadata": {
    "papermill": {
     "duration": 1.538268,
     "end_time": "2021-04-06T14:50:40.003404",
     "exception": false,
     "start_time": "2021-04-06T14:50:38.465136",
     "status": "completed"
    },
    "tags": []
   },
   "outputs": [
    {
     "name": "stderr",
     "output_type": "stream",
     "text": [
      "2021-04-06 14:50:39 - dagster - INFO - system - 819c8485-2bd4-4d07-bcab-3dfb78cfbd98 - {'pipeline': 'pipeline1', '.dagster/grpc_info': '{\"host\": \"localhost\", \"socket\": \"/tmp/tmph8cd64ae\"}', 'dagster/parent_run_id': '9c453aa3-a468-4465-b20d-b1121342fef7', 'dagster/root_run_id': '9c453aa3-a468-4465-b20d-b1121342fef7', 'dagster/solid_selection': '*'}\n"
     ]
    },
    {
     "name": "stdout",
     "output_type": "stream",
     "text": [
      "<dagstermill.context.DagstermillRuntimeExecutionContext object at 0x7ff94da02340>\n"
     ]
    },
    {
     "data": {
      "text/plain": [
       "{'pipeline': 'pipeline1',\n",
       " '.dagster/grpc_info': '{\"host\": \"localhost\", \"socket\": \"/tmp/tmph8cd64ae\"}',\n",
       " 'dagster/parent_run_id': '9c453aa3-a468-4465-b20d-b1121342fef7',\n",
       " 'dagster/root_run_id': '9c453aa3-a468-4465-b20d-b1121342fef7',\n",
       " 'dagster/solid_selection': '*'}"
      ]
     },
     "execution_count": 2,
     "metadata": {},
     "output_type": "execute_result"
    }
   ],
   "source": [
    "import dagstermill, pandas as pd, numpy as np, os\n",
    "print(dagstermill.get_context())\n",
    "logger = lambda *args: (dagstermill.get_context()).log.info(\" \".join(str(s) for s in args))\n",
    "logger((dagstermill.get_context()).logging_tags)\n",
    "(dagstermill.get_context()).logging_tags"
   ]
  },
  {
   "cell_type": "code",
   "execution_count": 3,
   "id": "documented-mediterranean",
   "metadata": {
    "papermill": {
     "duration": 0.079069,
     "end_time": "2021-04-06T14:50:40.124009",
     "exception": false,
     "start_time": "2021-04-06T14:50:40.044940",
     "status": "completed"
    },
    "tags": []
   },
   "outputs": [
    {
     "name": "stdout",
     "output_type": "stream",
     "text": [
      "2\n"
     ]
    }
   ],
   "source": [
    "print(2)"
   ]
  },
  {
   "cell_type": "code",
   "execution_count": 4,
   "id": "pursuant-recommendation",
   "metadata": {
    "papermill": {
     "duration": 0.12481,
     "end_time": "2021-04-06T14:50:40.292828",
     "exception": false,
     "start_time": "2021-04-06T14:50:40.168018",
     "status": "completed"
    },
    "tags": []
   },
   "outputs": [
    {
     "name": "stderr",
     "output_type": "stream",
     "text": [
      "/usr/local/lib/python3.9/site-packages/scrapbook/__init__.py:8: FutureWarning: 'nteract-scrapbook' package has been renamed to `scrapbook`. No new releases are going out for this old package name.\n",
      "  warnings.warn(\"'nteract-scrapbook' package has been renamed to `scrapbook`. No new releases are going out for this old package name.\", FutureWarning)\n"
     ]
    },
    {
     "data": {
      "application/scrapbook.scrap.json+json": {
       "data": {
        "value": "step 2 ok"
       },
       "encoder": "json",
       "name": "result",
       "version": 1
      }
     },
     "metadata": {
      "scrapbook": {
       "data": true,
       "display": false,
       "name": "result"
      }
     },
     "output_type": "display_data"
    }
   ],
   "source": [
    "dagstermill.yield_result(\"step 2 ok\")"
   ]
  },
  {
   "cell_type": "code",
   "execution_count": 5,
   "id": "rotary-commodity",
   "metadata": {
    "papermill": {
     "duration": 0.085141,
     "end_time": "2021-04-06T14:50:40.430946",
     "exception": false,
     "start_time": "2021-04-06T14:50:40.345805",
     "status": "completed"
    },
    "tags": [
     "injected-teardown"
    ]
   },
   "outputs": [],
   "source": [
    "import dagstermill as __dm_dagstermill\n",
    "__dm_dagstermill._teardown()\n"
   ]
  }
 ],
 "metadata": {
  "kernelspec": {
   "display_name": "Python 3",
   "language": "python",
   "name": "python3"
  },
  "language_info": {
   "codemirror_mode": {
    "name": "ipython",
    "version": 3
   },
   "file_extension": ".py",
   "mimetype": "text/x-python",
   "name": "python",
   "nbconvert_exporter": "python",
   "pygments_lexer": "ipython3",
   "version": "3.9.2"
  },
  "papermill": {
   "duration": 13.211115,
   "end_time": "2021-04-06T14:50:41.608584",
   "environment_variables": {},
   "exception": null,
   "input_path": "/tmp/tmpykg7cse6/b2b0b1b8-e891-41fe-9cfc-4bc6364a90dd-inter.ipynb",
   "output_path": "/tmp/tmpykg7cse6/574f16da-08ec-4833-a174-26546684956a-out.ipynb",
   "parameters": "{\"__dm_context\": {\"marshal_dir\": \"/tmp/dagstermill/819c8485-2bd4-4d07-bcab-3dfb78cfbd98/marshal\", \"output_log_path\": \"/tmp/tmphd_ig090\", \"run_config\": {}}, \"__dm_executable_dict\": {\"__class__\": \"ReconstructablePipeline\", \"pipeline_name\": \"pipeline1\", \"repository\": {\"__class__\": \"ReconstructableRepository\", \"container_image\": null, \"pointer\": {\"__class__\": \"FileCodePointer\", \"fn_name\": \"notebooks_repository\", \"python_file\": \"/opt/dagster/conf/repos.py\", \"working_directory\": \"/notebooks\"}}, \"solid_selection_str\": null, \"solids_to_execute\": null}, \"__dm_instance_ref_dict\": {\"__class__\": \"InstanceRef\", \"compute_logs_data\": {\"__class__\": \"ConfigurableClassData\", \"class_name\": \"LocalComputeLogManager\", \"config_yaml\": \"base_dir: /opt/dagster/dagster_home/storage\\n\", \"module_name\": \"dagster.core.storage.local_compute_log_manager\"}, \"custom_instance_class_data\": null, \"event_storage_data\": {\"__class__\": \"ConfigurableClassData\", \"class_name\": \"PostgresEventLogStorage\", \"config_yaml\": \"postgres_db:\\n  db_name:\\n    env: DAGSTER_POSTGRES_DB\\n  hostname: dagyter_db\\n  password:\\n    env: DAGSTER_POSTGRES_PASSWORD\\n  port: 5432\\n  username:\\n    env: DAGSTER_POSTGRES_USER\\n\", \"module_name\": \"dagster_postgres.event_log\"}, \"local_artifact_storage_data\": {\"__class__\": \"ConfigurableClassData\", \"class_name\": \"LocalArtifactStorage\", \"config_yaml\": \"base_dir: /opt/dagster/dagster_home\\n\", \"module_name\": \"dagster.core.storage.root\"}, \"run_coordinator_data\": {\"__class__\": \"ConfigurableClassData\", \"class_name\": \"DefaultRunCoordinator\", \"config_yaml\": \"{}\\n\", \"module_name\": \"dagster.core.run_coordinator\"}, \"run_launcher_data\": {\"__class__\": \"ConfigurableClassData\", \"class_name\": \"DefaultRunLauncher\", \"config_yaml\": \"{}\\n\", \"module_name\": \"dagster\"}, \"run_storage_data\": {\"__class__\": \"ConfigurableClassData\", \"class_name\": \"PostgresRunStorage\", \"config_yaml\": \"postgres_db:\\n  db_name:\\n    env: DAGSTER_POSTGRES_DB\\n  hostname: dagyter_db\\n  password:\\n    env: DAGSTER_POSTGRES_PASSWORD\\n  port: 5432\\n  username:\\n    env: DAGSTER_POSTGRES_USER\\n\", \"module_name\": \"dagster_postgres.run_storage\"}, \"schedule_storage_data\": {\"__class__\": \"ConfigurableClassData\", \"class_name\": \"PostgresScheduleStorage\", \"config_yaml\": \"postgres_db:\\n  db_name:\\n    env: DAGSTER_POSTGRES_DB\\n  hostname: dagyter_db\\n  password:\\n    env: DAGSTER_POSTGRES_PASSWORD\\n  port: 5432\\n  username:\\n    env: DAGSTER_POSTGRES_USER\\n\", \"module_name\": \"dagster_postgres.schedule_storage\"}, \"scheduler_data\": {\"__class__\": \"ConfigurableClassData\", \"class_name\": \"DagsterDaemonScheduler\", \"config_yaml\": \"{}\\n\", \"module_name\": \"dagster.core.scheduler\"}, \"settings\": {\"telemetry\": null}}, \"__dm_pipeline_run_dict\": {\"__class__\": \"PipelineRun\", \"execution_plan_snapshot_id\": \"9aa9832183c4cb2e9637fe7726a7bc93e94daab7\", \"external_pipeline_origin\": {\"__class__\": \"ExternalPipelineOrigin\", \"external_repository_origin\": {\"__class__\": \"ExternalRepositoryOrigin\", \"repository_location_origin\": {\"__class__\": \"ManagedGrpcPythonEnvRepositoryLocationOrigin\", \"loadable_target_origin\": {\"__class__\": \"LoadableTargetOrigin\", \"attribute\": null, \"executable_path\": \"/usr/local/bin/python\", \"module_name\": null, \"package_name\": null, \"python_file\": \"/opt/dagster/conf/repos.py\", \"working_directory\": \"/notebooks\"}, \"location_name\": \"repos.py\"}, \"repository_name\": \"notebooks_repository\"}, \"pipeline_name\": \"pipeline1\"}, \"mode\": \"default\", \"parent_run_id\": \"9c453aa3-a468-4465-b20d-b1121342fef7\", \"pipeline_name\": \"pipeline1\", \"pipeline_snapshot_id\": \"209de4531cbe3f1900c49c319b8cb69cff058c84\", \"root_run_id\": \"9c453aa3-a468-4465-b20d-b1121342fef7\", \"run_config\": {}, \"run_id\": \"819c8485-2bd4-4d07-bcab-3dfb78cfbd98\", \"solid_selection\": null, \"solids_to_execute\": null, \"status\": {\"__enum__\": \"PipelineRunStatus.STARTING\"}, \"step_keys_to_execute\": null, \"tags\": {\".dagster/grpc_info\": \"{\\\"host\\\": \\\"localhost\\\", \\\"socket\\\": \\\"/tmp/tmph8cd64ae\\\"}\", \"dagster/parent_run_id\": \"9c453aa3-a468-4465-b20d-b1121342fef7\", \"dagster/root_run_id\": \"9c453aa3-a468-4465-b20d-b1121342fef7\", \"dagster/solid_selection\": \"*\"}}, \"__dm_solid_handle_kwargs\": {\"name\": \"step2\", \"parent\": null}, \"i\": {\"value\": \"step 1 ok\"}}",
   "start_time": "2021-04-06T14:50:28.397469",
   "version": "1.2.1"
  }
 },
 "nbformat": 4,
 "nbformat_minor": 5
}