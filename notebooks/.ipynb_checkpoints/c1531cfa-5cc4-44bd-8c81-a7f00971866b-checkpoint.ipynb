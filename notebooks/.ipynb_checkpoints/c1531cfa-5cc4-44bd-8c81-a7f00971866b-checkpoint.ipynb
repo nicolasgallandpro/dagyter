{
 "cells": [
  {
   "cell_type": "code",
   "execution_count": null,
   "id": "valued-latter",
   "metadata": {
    "hide_input": true,
    "inputHidden": true
   },
   "outputs": [
    {
     "data": {
      "text/html": [
       "<span style=\"color:red; font-family:Helvetica Neue, Helvetica, Arial, sans-serif; font-size:2em;\">An Exception was encountered at 'In [3]'.</span>"
      ]
     },
     "metadata": {},
     "output_type": "display_data"
    }
   ],
   "source": [
    "%%html\n",
    "<span style=\"color:red; font-family:Helvetica Neue, Helvetica, Arial, sans-serif; font-size:2em;\">An Exception was encountered at 'In [3]'.</span>"
   ]
  },
  {
   "cell_type": "code",
   "execution_count": 1,
   "id": "composite-enlargement",
   "metadata": {
    "papermill": {
     "duration": 7.219484,
     "end_time": "2021-04-06T13:19:16.381234",
     "exception": false,
     "start_time": "2021-04-06T13:19:09.161750",
     "status": "completed"
    },
    "tags": [
     "injected-parameters"
    ]
   },
   "outputs": [
    {
     "name": "stderr",
     "output_type": "stream",
     "text": [
      "2021-04-06 13:19:16 - dagster - DEBUG - pipeline1 - ff206c1a-3691-4b64-8209-b0901d248105 - 13575 - ENGINE_EVENT - Starting initialization of resources [file_manager, io_manager].\n"
     ]
    },
    {
     "name": "stderr",
     "output_type": "stream",
     "text": [
      "2021-04-06 13:19:16 - dagster - DEBUG - pipeline1 - ff206c1a-3691-4b64-8209-b0901d248105 - 13575 - ENGINE_EVENT - Finished initialization of resources [file_manager, io_manager].\n"
     ]
    }
   ],
   "source": [
    "\n",
    "# Injected parameters\n",
    "from dagster import seven as __dm_seven\n",
    "import dagstermill as __dm_dagstermill\n",
    "context = __dm_dagstermill._reconstitute_pipeline_context(\n",
    "    **{\n",
    "        key: __dm_seven.json.loads(value)\n",
    "        for key, value\n",
    "        in {'executable_dict': '{\"__class__\": \"ReconstructablePipeline\", \"pipeline_name\": \"pipeline1\", \"repository\": {\"__class__\": \"ReconstructableRepository\", \"container_image\": null, \"pointer\": {\"__class__\": \"FileCodePointer\", \"fn_name\": \"notebooks_repository\", \"python_file\": \"/opt/dagster/conf/repos.py\", \"working_directory\": \"/notebooks\"}}, \"solid_selection_str\": null, \"solids_to_execute\": null}', 'pipeline_run_dict': '{\"__class__\": \"PipelineRun\", \"execution_plan_snapshot_id\": \"9aa9832183c4cb2e9637fe7726a7bc93e94daab7\", \"external_pipeline_origin\": {\"__class__\": \"ExternalPipelineOrigin\", \"external_repository_origin\": {\"__class__\": \"ExternalRepositoryOrigin\", \"repository_location_origin\": {\"__class__\": \"ManagedGrpcPythonEnvRepositoryLocationOrigin\", \"loadable_target_origin\": {\"__class__\": \"LoadableTargetOrigin\", \"attribute\": null, \"executable_path\": \"/usr/local/bin/python\", \"module_name\": null, \"package_name\": null, \"python_file\": \"/opt/dagster/conf/repos.py\", \"working_directory\": \"/notebooks\"}, \"location_name\": \"repos.py\"}, \"repository_name\": \"notebooks_repository\"}, \"pipeline_name\": \"pipeline1\"}, \"mode\": \"default\", \"parent_run_id\": null, \"pipeline_name\": \"pipeline1\", \"pipeline_snapshot_id\": \"209de4531cbe3f1900c49c319b8cb69cff058c84\", \"root_run_id\": null, \"run_config\": {}, \"run_id\": \"ff206c1a-3691-4b64-8209-b0901d248105\", \"solid_selection\": null, \"solids_to_execute\": null, \"status\": {\"__enum__\": \"PipelineRunStatus.STARTING\"}, \"step_keys_to_execute\": null, \"tags\": {\".dagster/grpc_info\": \"{\\\\\"host\\\\\": \\\\\"localhost\\\\\", \\\\\"socket\\\\\": \\\\\"/tmp/tmph8cd64ae\\\\\"}\", \"dagster/solid_selection\": \"*\"}}', 'solid_handle_kwargs': '{\"name\": \"step1\", \"parent\": null}', 'instance_ref_dict': '{\"__class__\": \"InstanceRef\", \"compute_logs_data\": {\"__class__\": \"ConfigurableClassData\", \"class_name\": \"LocalComputeLogManager\", \"config_yaml\": \"base_dir: /opt/dagster/dagster_home/storage\\\\n\", \"module_name\": \"dagster.core.storage.local_compute_log_manager\"}, \"custom_instance_class_data\": null, \"event_storage_data\": {\"__class__\": \"ConfigurableClassData\", \"class_name\": \"PostgresEventLogStorage\", \"config_yaml\": \"postgres_db:\\\\n  db_name:\\\\n    env: DAGSTER_POSTGRES_DB\\\\n  hostname: dagyter_db\\\\n  password:\\\\n    env: DAGSTER_POSTGRES_PASSWORD\\\\n  port: 5432\\\\n  username:\\\\n    env: DAGSTER_POSTGRES_USER\\\\n\", \"module_name\": \"dagster_postgres.event_log\"}, \"local_artifact_storage_data\": {\"__class__\": \"ConfigurableClassData\", \"class_name\": \"LocalArtifactStorage\", \"config_yaml\": \"base_dir: /opt/dagster/dagster_home\\\\n\", \"module_name\": \"dagster.core.storage.root\"}, \"run_coordinator_data\": {\"__class__\": \"ConfigurableClassData\", \"class_name\": \"DefaultRunCoordinator\", \"config_yaml\": \"{}\\\\n\", \"module_name\": \"dagster.core.run_coordinator\"}, \"run_launcher_data\": {\"__class__\": \"ConfigurableClassData\", \"class_name\": \"DefaultRunLauncher\", \"config_yaml\": \"{}\\\\n\", \"module_name\": \"dagster\"}, \"run_storage_data\": {\"__class__\": \"ConfigurableClassData\", \"class_name\": \"PostgresRunStorage\", \"config_yaml\": \"postgres_db:\\\\n  db_name:\\\\n    env: DAGSTER_POSTGRES_DB\\\\n  hostname: dagyter_db\\\\n  password:\\\\n    env: DAGSTER_POSTGRES_PASSWORD\\\\n  port: 5432\\\\n  username:\\\\n    env: DAGSTER_POSTGRES_USER\\\\n\", \"module_name\": \"dagster_postgres.run_storage\"}, \"schedule_storage_data\": {\"__class__\": \"ConfigurableClassData\", \"class_name\": \"PostgresScheduleStorage\", \"config_yaml\": \"postgres_db:\\\\n  db_name:\\\\n    env: DAGSTER_POSTGRES_DB\\\\n  hostname: dagyter_db\\\\n  password:\\\\n    env: DAGSTER_POSTGRES_PASSWORD\\\\n  port: 5432\\\\n  username:\\\\n    env: DAGSTER_POSTGRES_USER\\\\n\", \"module_name\": \"dagster_postgres.schedule_storage\"}, \"scheduler_data\": {\"__class__\": \"ConfigurableClassData\", \"class_name\": \"DagsterDaemonScheduler\", \"config_yaml\": \"{}\\\\n\", \"module_name\": \"dagster.core.scheduler\"}, \"settings\": {\"telemetry\": null}}', 'output_log_path': '\"/tmp/tmpehr6cv9z\"', 'marshal_dir': '\"/tmp/dagstermill/ff206c1a-3691-4b64-8209-b0901d248105/marshal\"', 'run_config': '{}'}.items()\n",
    "    }\n",
    ")\n"
   ]
  },
  {
   "cell_type": "code",
   "execution_count": 2,
   "id": "amino-flooring",
   "metadata": {
    "papermill": {
     "duration": 0.068107,
     "end_time": "2021-04-06T13:19:16.479594",
     "exception": false,
     "start_time": "2021-04-06T13:19:16.411487",
     "status": "completed"
    },
    "tags": []
   },
   "outputs": [
    {
     "name": "stdout",
     "output_type": "stream",
     "text": [
      "1\n"
     ]
    }
   ],
   "source": [
    "print(1)"
   ]
  },
  {
   "cell_type": "code",
   "execution_count": 3,
   "id": "promotional-static",
   "metadata": {
    "papermill": {
     "duration": 0.406214,
     "end_time": "2021-04-06T13:19:16.917817",
     "exception": true,
     "start_time": "2021-04-06T13:19:16.511603",
     "status": "failed"
    },
    "tags": []
   },
   "outputs": [
    {
     "ename": "NameError",
     "evalue": "name 'dagstermill' is not defined",
     "output_type": "error",
     "traceback": [
      "\u001b[0;31m---------------------------------------------------------------------------\u001b[0m",
      "\u001b[0;31mNameError\u001b[0m                                 Traceback (most recent call last)",
      "\u001b[0;32m<ipython-input-3-f28bfc38b914>\u001b[0m in \u001b[0;36m<module>\u001b[0;34m\u001b[0m\n\u001b[0;32m----> 1\u001b[0;31m \u001b[0mdagstermill\u001b[0m\u001b[0;34m.\u001b[0m\u001b[0myield_result\u001b[0m\u001b[0;34m(\u001b[0m\u001b[0;34m\"step 1 ok\"\u001b[0m\u001b[0;34m)\u001b[0m \u001b[0;31m#must be present\u001b[0m\u001b[0;34m\u001b[0m\u001b[0;34m\u001b[0m\u001b[0m\n\u001b[0m",
      "\u001b[0;31mNameError\u001b[0m: name 'dagstermill' is not defined"
     ]
    }
   ],
   "source": [
    "dagstermill.yield_result(\"step 1 ok\") #must be present "
   ]
  },
  {
   "cell_type": "code",
   "execution_count": null,
   "id": "lesser-serial",
   "metadata": {
    "papermill": {
     "duration": 0.054533,
     "end_time": "2021-04-06T13:19:17.009963",
     "exception": false,
     "start_time": "2021-04-06T13:19:16.955430",
     "status": "completed"
    },
    "tags": [
     "injected-teardown"
    ]
   },
   "outputs": [],
   "source": [
    "import dagstermill as __dm_dagstermill\n",
    "__dm_dagstermill._teardown()\n"
   ]
  }
 ],
 "metadata": {
  "kernelspec": {
   "display_name": "Python 3",
   "language": "python",
   "name": "python3"
  },
  "language_info": {
   "codemirror_mode": {
    "name": "ipython",
    "version": 3
   },
   "file_extension": ".py",
   "mimetype": "text/x-python",
   "name": "python",
   "nbconvert_exporter": "python",
   "pygments_lexer": "ipython3",
   "version": "3.9.2"
  },
  "papermill": {
   "duration": 13.169595,
   "end_time": "2021-04-06T13:19:18.071229",
   "environment_variables": {},
   "exception": true,
   "input_path": "/tmp/tmppx86j6x9/48a69ee0-b4e2-4d6e-94c5-7b3eaac2feb1-inter.ipynb",
   "output_path": "/tmp/tmppx86j6x9/efcf11e8-f916-48c1-b36d-6bbdc0edefee-out.ipynb",
   "parameters": "{\"__dm_context\": {\"marshal_dir\": \"/tmp/dagstermill/ff206c1a-3691-4b64-8209-b0901d248105/marshal\", \"output_log_path\": \"/tmp/tmpehr6cv9z\", \"run_config\": {}}, \"__dm_executable_dict\": {\"__class__\": \"ReconstructablePipeline\", \"pipeline_name\": \"pipeline1\", \"repository\": {\"__class__\": \"ReconstructableRepository\", \"container_image\": null, \"pointer\": {\"__class__\": \"FileCodePointer\", \"fn_name\": \"notebooks_repository\", \"python_file\": \"/opt/dagster/conf/repos.py\", \"working_directory\": \"/notebooks\"}}, \"solid_selection_str\": null, \"solids_to_execute\": null}, \"__dm_instance_ref_dict\": {\"__class__\": \"InstanceRef\", \"compute_logs_data\": {\"__class__\": \"ConfigurableClassData\", \"class_name\": \"LocalComputeLogManager\", \"config_yaml\": \"base_dir: /opt/dagster/dagster_home/storage\\n\", \"module_name\": \"dagster.core.storage.local_compute_log_manager\"}, \"custom_instance_class_data\": null, \"event_storage_data\": {\"__class__\": \"ConfigurableClassData\", \"class_name\": \"PostgresEventLogStorage\", \"config_yaml\": \"postgres_db:\\n  db_name:\\n    env: DAGSTER_POSTGRES_DB\\n  hostname: dagyter_db\\n  password:\\n    env: DAGSTER_POSTGRES_PASSWORD\\n  port: 5432\\n  username:\\n    env: DAGSTER_POSTGRES_USER\\n\", \"module_name\": \"dagster_postgres.event_log\"}, \"local_artifact_storage_data\": {\"__class__\": \"ConfigurableClassData\", \"class_name\": \"LocalArtifactStorage\", \"config_yaml\": \"base_dir: /opt/dagster/dagster_home\\n\", \"module_name\": \"dagster.core.storage.root\"}, \"run_coordinator_data\": {\"__class__\": \"ConfigurableClassData\", \"class_name\": \"DefaultRunCoordinator\", \"config_yaml\": \"{}\\n\", \"module_name\": \"dagster.core.run_coordinator\"}, \"run_launcher_data\": {\"__class__\": \"ConfigurableClassData\", \"class_name\": \"DefaultRunLauncher\", \"config_yaml\": \"{}\\n\", \"module_name\": \"dagster\"}, \"run_storage_data\": {\"__class__\": \"ConfigurableClassData\", \"class_name\": \"PostgresRunStorage\", \"config_yaml\": \"postgres_db:\\n  db_name:\\n    env: DAGSTER_POSTGRES_DB\\n  hostname: dagyter_db\\n  password:\\n    env: DAGSTER_POSTGRES_PASSWORD\\n  port: 5432\\n  username:\\n    env: DAGSTER_POSTGRES_USER\\n\", \"module_name\": \"dagster_postgres.run_storage\"}, \"schedule_storage_data\": {\"__class__\": \"ConfigurableClassData\", \"class_name\": \"PostgresScheduleStorage\", \"config_yaml\": \"postgres_db:\\n  db_name:\\n    env: DAGSTER_POSTGRES_DB\\n  hostname: dagyter_db\\n  password:\\n    env: DAGSTER_POSTGRES_PASSWORD\\n  port: 5432\\n  username:\\n    env: DAGSTER_POSTGRES_USER\\n\", \"module_name\": \"dagster_postgres.schedule_storage\"}, \"scheduler_data\": {\"__class__\": \"ConfigurableClassData\", \"class_name\": \"DagsterDaemonScheduler\", \"config_yaml\": \"{}\\n\", \"module_name\": \"dagster.core.scheduler\"}, \"settings\": {\"telemetry\": null}}, \"__dm_pipeline_run_dict\": {\"__class__\": \"PipelineRun\", \"execution_plan_snapshot_id\": \"9aa9832183c4cb2e9637fe7726a7bc93e94daab7\", \"external_pipeline_origin\": {\"__class__\": \"ExternalPipelineOrigin\", \"external_repository_origin\": {\"__class__\": \"ExternalRepositoryOrigin\", \"repository_location_origin\": {\"__class__\": \"ManagedGrpcPythonEnvRepositoryLocationOrigin\", \"loadable_target_origin\": {\"__class__\": \"LoadableTargetOrigin\", \"attribute\": null, \"executable_path\": \"/usr/local/bin/python\", \"module_name\": null, \"package_name\": null, \"python_file\": \"/opt/dagster/conf/repos.py\", \"working_directory\": \"/notebooks\"}, \"location_name\": \"repos.py\"}, \"repository_name\": \"notebooks_repository\"}, \"pipeline_name\": \"pipeline1\"}, \"mode\": \"default\", \"parent_run_id\": null, \"pipeline_name\": \"pipeline1\", \"pipeline_snapshot_id\": \"209de4531cbe3f1900c49c319b8cb69cff058c84\", \"root_run_id\": null, \"run_config\": {}, \"run_id\": \"ff206c1a-3691-4b64-8209-b0901d248105\", \"solid_selection\": null, \"solids_to_execute\": null, \"status\": {\"__enum__\": \"PipelineRunStatus.STARTING\"}, \"step_keys_to_execute\": null, \"tags\": {\".dagster/grpc_info\": \"{\\\"host\\\": \\\"localhost\\\", \\\"socket\\\": \\\"/tmp/tmph8cd64ae\\\"}\", \"dagster/solid_selection\": \"*\"}}, \"__dm_solid_handle_kwargs\": {\"name\": \"step1\", \"parent\": null}}",
   "start_time": "2021-04-06T13:19:04.901634",
   "version": "1.2.1"
  }
 },
 "nbformat": 4,
 "nbformat_minor": 5
}